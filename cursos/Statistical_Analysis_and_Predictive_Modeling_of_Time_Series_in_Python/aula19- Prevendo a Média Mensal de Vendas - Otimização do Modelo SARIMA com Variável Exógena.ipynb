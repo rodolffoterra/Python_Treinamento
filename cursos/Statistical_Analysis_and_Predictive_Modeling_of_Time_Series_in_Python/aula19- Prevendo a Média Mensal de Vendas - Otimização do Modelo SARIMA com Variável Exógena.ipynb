{
 "cells": [
  {
   "cell_type": "markdown",
   "metadata": {},
   "source": [
    "<strong><b><font size=\"5\">Análise Estatística e Modelagem Preditiva de Séries Temporais - Em Python</font></b></strong>"
   ]
  },
  {
   "cell_type": "markdown",
   "metadata": {},
   "source": [
    "<strong><b><font size=\"5\">Aula 19 - Prevendo a Média Mensal de Vendas - Otimização do Modelo SARIMA com Variável Exógena</font></b></strong>"
   ]
  },
  {
   "cell_type": "markdown",
   "metadata": {},
   "source": [
    "Uma maneira de melhorar o desempenho do modelo é adicionar uma variável exógena. Embora não seja garantia de melhoria, isso pode deixar o modelo mais preciso no forecast, pois mais um fator será considerado na previsão ao longo do tempo.\n",
    "\n",
    "Uma variável exógena é uma variável que não está sendo sendo prevista na série. Por exemplo: se estamos prevendo o volume de vendas, uma variável que indica se o dia é feriado ou não, seria uma variável exógena. Aliás, é exatamente isso que vamos fazer.\n",
    "\n",
    "Python possui um pacote de feriados (chamado holidays) que pode ser importado e usado para determinar se uma data foi ou não um feriado.\n",
    "\n",
    "O modelo SARIMAX que usamos até agora aceita variáveis exógenas como um argumento adicional.\n"
   ]
  },
  {
   "cell_type": "markdown",
   "metadata": {},
   "source": [
    "Carregando os Pacotes Usados Neste Jupyter Notebook"
   ]
  },
  {
   "cell_type": "code",
   "execution_count": 1,
   "metadata": {},
   "outputs": [
    {
     "name": "stderr",
     "output_type": "stream",
     "text": [
      "WARNING: You are using pip version 20.2.4; however, version 20.3.3 is available.\n",
      "You should consider upgrading via the 'c:\\users\\rodolfo\\appdata\\local\\programs\\python\\python37\\python.exe -m pip install --upgrade pip' command.\n"
     ]
    }
   ],
   "source": [
    "# Instala o pacote watermark. \n",
    "# Esse pacote é usado para gravar as versões de outros pacotes usados neste jupyter notebook.\n",
    "\n",
    "!pip install -q -U watermark"
   ]
  },
  {
   "cell_type": "code",
   "execution_count": 1,
   "metadata": {},
   "outputs": [
    {
     "name": "stderr",
     "output_type": "stream",
     "text": [
      "WARNING: You are using pip version 20.2.4; however, version 20.3.3 is available.\n",
      "You should consider upgrading via the 'c:\\users\\rodolfo\\appdata\\local\\programs\\python\\python37\\python.exe -m pip install --upgrade pip' command.\n"
     ]
    }
   ],
   "source": [
    "# Install Package\n",
    "!pip install -q holidays"
   ]
  },
  {
   "cell_type": "code",
   "execution_count": 2,
   "metadata": {},
   "outputs": [],
   "source": [
    "# The new versions of Pandas and Matplotlib bring several warning messages to the developer. Let's disable this.\n",
    "import sys\n",
    "import warnings\n",
    "import matplotlib.cbook\n",
    "if not sys.warnoptions:\n",
    "    warnings.simplefilter(\"ignore\")\n",
    "warnings.simplefilter(action='ignore', category=FutureWarning)\n",
    "warnings.filterwarnings(\"ignore\", category=FutureWarning)\n",
    "warnings.filterwarnings(\"ignore\", category=matplotlib.cbook.mplDeprecation)\n",
    "\n",
    "# Imports for data manipulation\n",
    "import numpy as np\n",
    "import pandas as pd\n",
    "import itertools\n",
    "from pandas import Series\n",
    "import holidays\n",
    "\n",
    "# Imports for data Vasualization\n",
    "import matplotlib.pyplot as plt\n",
    "import matplotlib as m\n",
    "import seaborn as sns\n",
    "import plotly as py\n",
    "import plotly.express as px\n",
    "import plotly.graph_objs as go \n",
    "from plotly.offline import download_plotlyjs, init_notebook_mode, plot, iplot\n",
    "\n",
    "# Imports for predictive modeling\n",
    "import statsmodels\n",
    "import statsmodels.api as sm\n",
    "import statsmodels.tsa.api as smt\n",
    "import statsmodels.stats as sms\n",
    "import scipy\n",
    "import scipy.stats as scs\n",
    "from statsmodels.graphics import tsaplots\n",
    "from statsmodels.tsa.seasonal import seasonal_decompose\n",
    "from statsmodels.tsa.stattools import adfuller\n",
    "from statsmodels.stats.stattools import jarque_bera\n",
    "\n",
    "# Imports for metrics and model performance\n",
    "import math\n",
    "from math import sqrt \n",
    "import sklearn\n",
    "from sklearn.metrics import mean_squared_error \n",
    "\n",
    "# Imports for formatting graphics\n",
    "m.rcParams['axes.labelsize'] = 14\n",
    "m.rcParams['xtick.labelsize'] = 12\n",
    "m.rcParams['ytick.labelsize'] = 12\n",
    "m.rcParams['text.color'] = 'k'\n",
    "from matplotlib.pylab import rcParams \n",
    "rcParams['figure.figsize'] = 12,7\n",
    "matplotlib.style.use('ggplot')\n",
    "%matplotlib inline"
   ]
  },
  {
   "cell_type": "code",
   "execution_count": 3,
   "metadata": {},
   "outputs": [
    {
     "name": "stdout",
     "output_type": "stream",
     "text": [
      "Author: Data Scientist Rodolfo Terra\n",
      "\n",
      "numpy      : 1.18.2\n",
      "sys        : 3.7.6 (tags/v3.7.6:43364a7ae0, Dec 19 2019, 00:42:30) [MSC v.1916 64 bit (AMD64)]\n",
      "matplotlib : 3.3.1\n",
      "sklearn    : 0.23.2\n",
      "plotly     : 4.13.0\n",
      "statsmodels: 0.12.1\n",
      "holidays   : 0.10.4\n",
      "seaborn    : 0.12.0.dev0\n",
      "pandas     : 1.1.1\n",
      "scipy      : 1.4.1\n",
      "\n"
     ]
    }
   ],
   "source": [
    "#Versions of packages used in this jupyter notebook\n",
    "%reload_ext watermark\n",
    "%watermark -a \"Data Scientist Rodolfo Terra\" --iversions"
   ]
  },
  {
   "cell_type": "markdown",
   "metadata": {},
   "source": [
    "## Definição do Problema de Negócio\n",
    "\n",
    "A HappyMoonVC é uma Venture Capital (VC).\n",
    "\n",
    "Além do investimento no GoInRail (descrito nas aulas anteriores), a HappyMoonVC está analisando um outro negócio. Uma rede de varejo que poderá fornecer produtos para os clientes do GoInRail (drone elétrico para transporte de passageiros). \n",
    "\n",
    "Um monitor touch-screen dentro do GoInRail permitiria que o cliente fizesse a compra de produtos enquanto faz a viagem, com a opção de pegar o produto na estação que for descer ou então receber direto na residência (se acha que isso é futurista demais, saiba que já existe no metrô do Japão).\n",
    "\n",
    "Para decidir se o investimento vale a pena, a HappyMoonVC precisa prever o volume de vendas.  \n",
    "\n",
    "Esse é nosso trabalho."
   ]
  },
  {
   "cell_type": "markdown",
   "metadata": {},
   "source": [
    "### Conjunto de Dados\n",
    "\n",
    "Usaremos conjuntos de dados que está disponível publicamente no site do Tableau e que representa as vendas históricas da empresa na qual a HappyMoonVC pretende investir. Aqui o link do dataset (que está sendo fornecido para você):\n",
    "\n",
    "https://community.tableau.com/docs/DOC-1236\n",
    "\n",
    "De todos os dados disponíveis, nosso interesse é na categoria de produtos de tecnologia."
   ]
  },
  {
   "cell_type": "code",
   "execution_count": 4,
   "metadata": {},
   "outputs": [],
   "source": [
    "# Load the data\n",
    "dados = pd.read_csv('https://raw.githubusercontent.com/dsacademybr/Datasets/master/dataset6.csv')"
   ]
  },
  {
   "cell_type": "code",
   "execution_count": 5,
   "metadata": {},
   "outputs": [
    {
     "data": {
      "text/plain": [
       "(9994, 21)"
      ]
     },
     "execution_count": 5,
     "metadata": {},
     "output_type": "execute_result"
    }
   ],
   "source": [
    "# shape\n",
    "dados.shape"
   ]
  },
  {
   "cell_type": "code",
   "execution_count": 7,
   "metadata": {},
   "outputs": [
    {
     "data": {
      "text/plain": [
       "Index(['Row ID', 'Order ID', 'Order Date', 'Ship Date', 'Ship Mode',\n",
       "       'Customer ID', 'Customer Name', 'Segment', 'Country', 'City', 'State',\n",
       "       'Postal Code', 'Region', 'Product ID', 'Category', 'Sub-Category',\n",
       "       'Product Name', 'Sales', 'Quantity', 'Discount', 'Profit'],\n",
       "      dtype='object')"
      ]
     },
     "execution_count": 7,
     "metadata": {},
     "output_type": "execute_result"
    }
   ],
   "source": [
    "# Columns\n",
    "dados.columns"
   ]
  },
  {
   "cell_type": "markdown",
   "metadata": {},
   "source": [
    "### Análise Exploratória"
   ]
  },
  {
   "cell_type": "code",
   "execution_count": 8,
   "metadata": {},
   "outputs": [
    {
     "data": {
      "text/html": [
       "<div>\n",
       "<style scoped>\n",
       "    .dataframe tbody tr th:only-of-type {\n",
       "        vertical-align: middle;\n",
       "    }\n",
       "\n",
       "    .dataframe tbody tr th {\n",
       "        vertical-align: top;\n",
       "    }\n",
       "\n",
       "    .dataframe thead th {\n",
       "        text-align: right;\n",
       "    }\n",
       "</style>\n",
       "<table border=\"1\" class=\"dataframe\">\n",
       "  <thead>\n",
       "    <tr style=\"text-align: right;\">\n",
       "      <th></th>\n",
       "      <th>Row ID</th>\n",
       "      <th>Order ID</th>\n",
       "      <th>Order Date</th>\n",
       "      <th>Ship Date</th>\n",
       "      <th>Ship Mode</th>\n",
       "      <th>Customer ID</th>\n",
       "      <th>Customer Name</th>\n",
       "      <th>Segment</th>\n",
       "      <th>Country</th>\n",
       "      <th>City</th>\n",
       "      <th>...</th>\n",
       "      <th>Postal Code</th>\n",
       "      <th>Region</th>\n",
       "      <th>Product ID</th>\n",
       "      <th>Category</th>\n",
       "      <th>Sub-Category</th>\n",
       "      <th>Product Name</th>\n",
       "      <th>Sales</th>\n",
       "      <th>Quantity</th>\n",
       "      <th>Discount</th>\n",
       "      <th>Profit</th>\n",
       "    </tr>\n",
       "  </thead>\n",
       "  <tbody>\n",
       "    <tr>\n",
       "      <th>0</th>\n",
       "      <td>1</td>\n",
       "      <td>CA-2016-152156</td>\n",
       "      <td>2016-11-08</td>\n",
       "      <td>2016-11-11</td>\n",
       "      <td>Second Class</td>\n",
       "      <td>CG-12520</td>\n",
       "      <td>Claire Gute</td>\n",
       "      <td>Consumer</td>\n",
       "      <td>United States</td>\n",
       "      <td>Henderson</td>\n",
       "      <td>...</td>\n",
       "      <td>42420</td>\n",
       "      <td>South</td>\n",
       "      <td>FUR-BO-10001798</td>\n",
       "      <td>Furniture</td>\n",
       "      <td>Bookcases</td>\n",
       "      <td>Bush Somerset Collection Bookcase</td>\n",
       "      <td>261.96</td>\n",
       "      <td>2</td>\n",
       "      <td>0.0</td>\n",
       "      <td>41.9136</td>\n",
       "    </tr>\n",
       "    <tr>\n",
       "      <th>1</th>\n",
       "      <td>2</td>\n",
       "      <td>CA-2016-152156</td>\n",
       "      <td>2016-11-08</td>\n",
       "      <td>2016-11-11</td>\n",
       "      <td>Second Class</td>\n",
       "      <td>CG-12520</td>\n",
       "      <td>Claire Gute</td>\n",
       "      <td>Consumer</td>\n",
       "      <td>United States</td>\n",
       "      <td>Henderson</td>\n",
       "      <td>...</td>\n",
       "      <td>42420</td>\n",
       "      <td>South</td>\n",
       "      <td>FUR-CH-10000454</td>\n",
       "      <td>Furniture</td>\n",
       "      <td>Chairs</td>\n",
       "      <td>Hon Deluxe Fabric Upholstered Stacking Chairs,...</td>\n",
       "      <td>731.94</td>\n",
       "      <td>3</td>\n",
       "      <td>0.0</td>\n",
       "      <td>219.5820</td>\n",
       "    </tr>\n",
       "    <tr>\n",
       "      <th>2</th>\n",
       "      <td>3</td>\n",
       "      <td>CA-2016-138688</td>\n",
       "      <td>2016-06-12</td>\n",
       "      <td>2016-06-16</td>\n",
       "      <td>Second Class</td>\n",
       "      <td>DV-13045</td>\n",
       "      <td>Darrin Van Huff</td>\n",
       "      <td>Corporate</td>\n",
       "      <td>United States</td>\n",
       "      <td>Los Angeles</td>\n",
       "      <td>...</td>\n",
       "      <td>90036</td>\n",
       "      <td>West</td>\n",
       "      <td>OFF-LA-10000240</td>\n",
       "      <td>Office Supplies</td>\n",
       "      <td>Labels</td>\n",
       "      <td>Self-Adhesive Address Labels for Typewriters b...</td>\n",
       "      <td>14.62</td>\n",
       "      <td>2</td>\n",
       "      <td>0.0</td>\n",
       "      <td>6.8714</td>\n",
       "    </tr>\n",
       "  </tbody>\n",
       "</table>\n",
       "<p>3 rows × 21 columns</p>\n",
       "</div>"
      ],
      "text/plain": [
       "   Row ID        Order ID  Order Date   Ship Date     Ship Mode Customer ID  \\\n",
       "0       1  CA-2016-152156  2016-11-08  2016-11-11  Second Class    CG-12520   \n",
       "1       2  CA-2016-152156  2016-11-08  2016-11-11  Second Class    CG-12520   \n",
       "2       3  CA-2016-138688  2016-06-12  2016-06-16  Second Class    DV-13045   \n",
       "\n",
       "     Customer Name    Segment        Country         City  ... Postal Code  \\\n",
       "0      Claire Gute   Consumer  United States    Henderson  ...       42420   \n",
       "1      Claire Gute   Consumer  United States    Henderson  ...       42420   \n",
       "2  Darrin Van Huff  Corporate  United States  Los Angeles  ...       90036   \n",
       "\n",
       "   Region       Product ID         Category Sub-Category  \\\n",
       "0   South  FUR-BO-10001798        Furniture    Bookcases   \n",
       "1   South  FUR-CH-10000454        Furniture       Chairs   \n",
       "2    West  OFF-LA-10000240  Office Supplies       Labels   \n",
       "\n",
       "                                        Product Name   Sales  Quantity  \\\n",
       "0                  Bush Somerset Collection Bookcase  261.96         2   \n",
       "1  Hon Deluxe Fabric Upholstered Stacking Chairs,...  731.94         3   \n",
       "2  Self-Adhesive Address Labels for Typewriters b...   14.62         2   \n",
       "\n",
       "   Discount    Profit  \n",
       "0       0.0   41.9136  \n",
       "1       0.0  219.5820  \n",
       "2       0.0    6.8714  \n",
       "\n",
       "[3 rows x 21 columns]"
      ]
     },
     "execution_count": 8,
     "metadata": {},
     "output_type": "execute_result"
    }
   ],
   "source": [
    "# View the data\n",
    "dados.head(3)"
   ]
  },
  {
   "cell_type": "code",
   "execution_count": 9,
   "metadata": {},
   "outputs": [
    {
     "data": {
      "text/html": [
       "<div>\n",
       "<style scoped>\n",
       "    .dataframe tbody tr th:only-of-type {\n",
       "        vertical-align: middle;\n",
       "    }\n",
       "\n",
       "    .dataframe tbody tr th {\n",
       "        vertical-align: top;\n",
       "    }\n",
       "\n",
       "    .dataframe thead th {\n",
       "        text-align: right;\n",
       "    }\n",
       "</style>\n",
       "<table border=\"1\" class=\"dataframe\">\n",
       "  <thead>\n",
       "    <tr style=\"text-align: right;\">\n",
       "      <th></th>\n",
       "      <th>Row ID</th>\n",
       "      <th>Postal Code</th>\n",
       "      <th>Sales</th>\n",
       "      <th>Quantity</th>\n",
       "      <th>Discount</th>\n",
       "      <th>Profit</th>\n",
       "    </tr>\n",
       "  </thead>\n",
       "  <tbody>\n",
       "    <tr>\n",
       "      <th>count</th>\n",
       "      <td>9994.000000</td>\n",
       "      <td>9994.000000</td>\n",
       "      <td>9994.000000</td>\n",
       "      <td>9994.000000</td>\n",
       "      <td>9994.000000</td>\n",
       "      <td>9994.000000</td>\n",
       "    </tr>\n",
       "    <tr>\n",
       "      <th>mean</th>\n",
       "      <td>4997.500000</td>\n",
       "      <td>55190.379428</td>\n",
       "      <td>229.858001</td>\n",
       "      <td>3.789574</td>\n",
       "      <td>0.156203</td>\n",
       "      <td>28.656896</td>\n",
       "    </tr>\n",
       "    <tr>\n",
       "      <th>std</th>\n",
       "      <td>2885.163629</td>\n",
       "      <td>32063.693350</td>\n",
       "      <td>623.245101</td>\n",
       "      <td>2.225110</td>\n",
       "      <td>0.206452</td>\n",
       "      <td>234.260108</td>\n",
       "    </tr>\n",
       "    <tr>\n",
       "      <th>min</th>\n",
       "      <td>1.000000</td>\n",
       "      <td>1040.000000</td>\n",
       "      <td>0.444000</td>\n",
       "      <td>1.000000</td>\n",
       "      <td>0.000000</td>\n",
       "      <td>-6599.978000</td>\n",
       "    </tr>\n",
       "    <tr>\n",
       "      <th>25%</th>\n",
       "      <td>2499.250000</td>\n",
       "      <td>23223.000000</td>\n",
       "      <td>17.280000</td>\n",
       "      <td>2.000000</td>\n",
       "      <td>0.000000</td>\n",
       "      <td>1.728750</td>\n",
       "    </tr>\n",
       "    <tr>\n",
       "      <th>50%</th>\n",
       "      <td>4997.500000</td>\n",
       "      <td>56430.500000</td>\n",
       "      <td>54.490000</td>\n",
       "      <td>3.000000</td>\n",
       "      <td>0.200000</td>\n",
       "      <td>8.666500</td>\n",
       "    </tr>\n",
       "    <tr>\n",
       "      <th>75%</th>\n",
       "      <td>7495.750000</td>\n",
       "      <td>90008.000000</td>\n",
       "      <td>209.940000</td>\n",
       "      <td>5.000000</td>\n",
       "      <td>0.200000</td>\n",
       "      <td>29.364000</td>\n",
       "    </tr>\n",
       "    <tr>\n",
       "      <th>max</th>\n",
       "      <td>9994.000000</td>\n",
       "      <td>99301.000000</td>\n",
       "      <td>22638.480000</td>\n",
       "      <td>14.000000</td>\n",
       "      <td>0.800000</td>\n",
       "      <td>8399.976000</td>\n",
       "    </tr>\n",
       "  </tbody>\n",
       "</table>\n",
       "</div>"
      ],
      "text/plain": [
       "            Row ID   Postal Code         Sales     Quantity     Discount  \\\n",
       "count  9994.000000   9994.000000   9994.000000  9994.000000  9994.000000   \n",
       "mean   4997.500000  55190.379428    229.858001     3.789574     0.156203   \n",
       "std    2885.163629  32063.693350    623.245101     2.225110     0.206452   \n",
       "min       1.000000   1040.000000      0.444000     1.000000     0.000000   \n",
       "25%    2499.250000  23223.000000     17.280000     2.000000     0.000000   \n",
       "50%    4997.500000  56430.500000     54.490000     3.000000     0.200000   \n",
       "75%    7495.750000  90008.000000    209.940000     5.000000     0.200000   \n",
       "max    9994.000000  99301.000000  22638.480000    14.000000     0.800000   \n",
       "\n",
       "            Profit  \n",
       "count  9994.000000  \n",
       "mean     28.656896  \n",
       "std     234.260108  \n",
       "min   -6599.978000  \n",
       "25%       1.728750  \n",
       "50%       8.666500  \n",
       "75%      29.364000  \n",
       "max    8399.976000  "
      ]
     },
     "execution_count": 9,
     "metadata": {},
     "output_type": "execute_result"
    }
   ],
   "source": [
    "# Statistical Summart\n",
    "dados.describe()"
   ]
  },
  {
   "cell_type": "code",
   "execution_count": 10,
   "metadata": {},
   "outputs": [
    {
     "name": "stdout",
     "output_type": "stream",
     "text": [
      "<class 'pandas.core.frame.DataFrame'>\n",
      "RangeIndex: 9994 entries, 0 to 9993\n",
      "Data columns (total 21 columns):\n",
      " #   Column         Non-Null Count  Dtype  \n",
      "---  ------         --------------  -----  \n",
      " 0   Row ID         9994 non-null   int64  \n",
      " 1   Order ID       9994 non-null   object \n",
      " 2   Order Date     9994 non-null   object \n",
      " 3   Ship Date      9994 non-null   object \n",
      " 4   Ship Mode      9994 non-null   object \n",
      " 5   Customer ID    9994 non-null   object \n",
      " 6   Customer Name  9994 non-null   object \n",
      " 7   Segment        9994 non-null   object \n",
      " 8   Country        9994 non-null   object \n",
      " 9   City           9994 non-null   object \n",
      " 10  State          9994 non-null   object \n",
      " 11  Postal Code    9994 non-null   int64  \n",
      " 12  Region         9994 non-null   object \n",
      " 13  Product ID     9994 non-null   object \n",
      " 14  Category       9994 non-null   object \n",
      " 15  Sub-Category   9994 non-null   object \n",
      " 16  Product Name   9994 non-null   object \n",
      " 17  Sales          9994 non-null   float64\n",
      " 18  Quantity       9994 non-null   int64  \n",
      " 19  Discount       9994 non-null   float64\n",
      " 20  Profit         9994 non-null   float64\n",
      "dtypes: float64(3), int64(3), object(15)\n",
      "memory usage: 1.6+ MB\n"
     ]
    }
   ],
   "source": [
    "# Chacking missing values - we have no missing values in the dataset\n",
    "dados.info()"
   ]
  },
  {
   "cell_type": "code",
   "execution_count": 11,
   "metadata": {},
   "outputs": [],
   "source": [
    "# Adjusting the column names so that they are all lowercrase\n",
    "dados.columns = map(str.lower, dados.columns)"
   ]
  },
  {
   "cell_type": "code",
   "execution_count": 12,
   "metadata": {},
   "outputs": [],
   "source": [
    "# We will replace the spaces and dashes in the columnb names with '-'\n",
    "dados.columns = dados.columns.str.replace(\" \", \"_\")\n",
    "dados.columns = dados.columns.str.replace(\"-\", \"_\")"
   ]
  },
  {
   "cell_type": "code",
   "execution_count": 13,
   "metadata": {},
   "outputs": [
    {
     "data": {
      "text/plain": [
       "Index(['row_id', 'order_id', 'order_date', 'ship_date', 'ship_mode',\n",
       "       'customer_id', 'customer_name', 'segment', 'country', 'city', 'state',\n",
       "       'postal_code', 'region', 'product_id', 'category', 'sub_category',\n",
       "       'product_name', 'sales', 'quantity', 'discount', 'profit'],\n",
       "      dtype='object')"
      ]
     },
     "execution_count": 13,
     "metadata": {},
     "output_type": "execute_result"
    }
   ],
   "source": [
    "# Checking out \n",
    "dados.columns"
   ]
  },
  {
   "cell_type": "code",
   "execution_count": 14,
   "metadata": {},
   "outputs": [
    {
     "name": "stdout",
     "output_type": "stream",
     "text": [
      "ship_mode {'Standard Class', 'Same Day', 'Second Class', 'First Class'}\n",
      "segment {'Home Office', 'Corporate', 'Consumer'}\n",
      "country {'United States'}\n",
      "region {'South', 'Central', 'East', 'West'}\n",
      "category {'Technology', 'Office Supplies', 'Furniture'}\n",
      "sub_category {'Labels', 'Envelopes', 'Tables', 'Phones', 'Binders', 'Paper', 'Copiers', 'Bookcases', 'Art', 'Accessories', 'Appliances', 'Furnishings', 'Machines', 'Fasteners', 'Storage', 'Supplies', 'Chairs'}\n",
      "quantity {1, 2, 3, 4, 5, 6, 7, 8, 9, 10, 11, 12, 13, 14}\n",
      "discount {0.0, 0.8, 0.2, 0.3, 0.45, 0.5, 0.7, 0.6, 0.32, 0.1, 0.4, 0.15}\n"
     ]
    }
   ],
   "source": [
    "# Let's check the unique values per column (to help define whether the variable is categorical  or not)\n",
    "for c in dados.columns:\n",
    "    if len(set(dados[c])) < 20:\n",
    "        print(c,set(dados[c]))"
   ]
  },
  {
   "cell_type": "markdown",
   "metadata": {},
   "source": [
    "## E os Feriados?\n",
    "\n",
    "Todas as vendas ocorrem nos EUA. Será que o fato de ser feriado de alguma forma contribui para a previsão de vendas? \n",
    "\n",
    "Não temos em nosso dataset nenhuma variável com esta informação e teremos que buscá-la externamente ao dataset. Em linhas gerais, isso é o que chamados de variável exógena.\n",
    "\n",
    "De fato, teremos duas séries: uma com a data e a venda (que trabalhamos até aqui) e uma nova série com a data e a indicacão se aquela data foi feriado ou não. Vai dar um trabalhinho, mas é para isso que estamos aqui. Para resolver problemas. Vou mostrar tudo em detalhes para você.\n",
    "\n",
    "E o interessante é que nem tudo vai sair como esperado! \n",
    "\n",
    "Vamos checar a primeira e última data de vendas."
   ]
  },
  {
   "cell_type": "code",
   "execution_count": 16,
   "metadata": {},
   "outputs": [
    {
     "data": {
      "text/plain": [
       "'2014-01-03'"
      ]
     },
     "execution_count": 16,
     "metadata": {},
     "output_type": "execute_result"
    }
   ],
   "source": [
    "# Firt Sales date in the dataset\n",
    "dados['order_date'].min()"
   ]
  },
  {
   "cell_type": "code",
   "execution_count": 17,
   "metadata": {},
   "outputs": [
    {
     "data": {
      "text/plain": [
       "'2017-12-30'"
      ]
     },
     "execution_count": 17,
     "metadata": {},
     "output_type": "execute_result"
    }
   ],
   "source": [
    "# Last Sales date in the dataset\n",
    "dados['order_date'].max()"
   ]
  },
  {
   "cell_type": "markdown",
   "metadata": {},
   "source": [
    "Temos vendas do começo de 2014 ao fim de 2017. Vamos buscar os feriados nesse período.\n",
    "\n",
    "O pacote holidays (que também permite coletar feriados do Brasil) torna nossa vida um pouco mais fácil. Observe:"
   ]
  },
  {
   "cell_type": "code",
   "execution_count": 20,
   "metadata": {},
   "outputs": [
    {
     "name": "stdout",
     "output_type": "stream",
     "text": [
      "2016-01-01 New Year's Day\n",
      "2016-01-18 Martin Luther King Jr. Day\n",
      "2016-02-15 Washington's Birthday\n",
      "2016-05-30 Memorial Day\n",
      "2016-07-04 Independence Day\n",
      "2016-09-05 Labor Day\n",
      "2016-10-10 Columbus Day\n",
      "2016-11-11 Veterans Day\n",
      "2016-11-24 Thanksgiving\n",
      "2016-12-25 Christmas Day\n",
      "2016-12-26 Christmas Day (Observed)\n",
      "2017-01-01 New Year's Day\n",
      "2017-01-02 New Year's Day (Observed)\n",
      "2017-01-16 Martin Luther King Jr. Day\n",
      "2017-02-20 Washington's Birthday\n",
      "2017-05-29 Memorial Day\n",
      "2017-07-04 Independence Day\n",
      "2017-09-04 Labor Day\n",
      "2017-10-09 Columbus Day\n",
      "2017-11-11 Veterans Day\n",
      "2017-11-10 Veterans Day (Observed)\n",
      "2017-11-23 Thanksgiving\n",
      "2017-12-25 Christmas Day\n",
      "2014-01-01 New Year's Day\n",
      "2014-01-20 Martin Luther King Jr. Day\n",
      "2014-02-17 Washington's Birthday\n",
      "2014-05-26 Memorial Day\n",
      "2014-07-04 Independence Day\n",
      "2014-09-01 Labor Day\n",
      "2014-10-13 Columbus Day\n",
      "2014-11-11 Veterans Day\n",
      "2014-11-27 Thanksgiving\n",
      "2014-12-25 Christmas Day\n",
      "2015-01-01 New Year's Day\n",
      "2015-01-19 Martin Luther King Jr. Day\n",
      "2015-02-16 Washington's Birthday\n",
      "2015-05-25 Memorial Day\n",
      "2015-07-04 Independence Day\n",
      "2015-07-03 Independence Day (Observed)\n",
      "2015-09-07 Labor Day\n",
      "2015-10-12 Columbus Day\n",
      "2015-11-11 Veterans Day\n",
      "2015-11-26 Thanksgiving\n",
      "2015-12-25 Christmas Day\n"
     ]
    }
   ],
   "source": [
    "# We will pick up all holidays in tyhe US between 2014 to 2017 \n",
    "for i, feriado in holidays.US(years = [2014, 2015, 2016, 2017]).items():\n",
    "    print(i, feriado)"
   ]
  },
  {
   "cell_type": "markdown",
   "metadata": {},
   "source": [
    "Hummm...muitos feriados. Foram 44 para ser exato. Vamos criar uma série para armazenar as datas dos feriados entre 2014 e 2017.\n",
    "\n",
    "Para conhecer mais sobre o pacote holidays, acesse: https://pypi.org/project/holidays/"
   ]
  },
  {
   "cell_type": "code",
   "execution_count": 21,
   "metadata": {},
   "outputs": [],
   "source": [
    "# Create an empty dataframe\n",
    "feriados = pd.Series()"
   ]
  },
  {
   "cell_type": "code",
   "execution_count": 25,
   "metadata": {},
   "outputs": [],
   "source": [
    "# We will pick up all holidays in tyhe US between 2014 to 2017 \n",
    "for i, feriado in holidays.US(years = [2014, 2015, 2016, 2017]).items():\n",
    "    feriados[i] = feriado"
   ]
  },
  {
   "cell_type": "code",
   "execution_count": 26,
   "metadata": {},
   "outputs": [
    {
     "data": {
      "text/plain": [
       "2016-01-01                New Year's Day\n",
       "2016-01-18    Martin Luther King Jr. Day\n",
       "2016-02-15         Washington's Birthday\n",
       "2016-05-30                  Memorial Day\n",
       "2016-07-04              Independence Day\n",
       "2016-09-05                     Labor Day\n",
       "2016-10-10                  Columbus Day\n",
       "2016-11-11                  Veterans Day\n",
       "dtype: object"
      ]
     },
     "execution_count": 26,
     "metadata": {},
     "output_type": "execute_result"
    }
   ],
   "source": [
    "# View the data\n",
    "feriados.head(8)"
   ]
  },
  {
   "cell_type": "code",
   "execution_count": 39,
   "metadata": {},
   "outputs": [],
   "source": [
    "# Let's convert the series to a dataframe and make some adjustments\n",
    "feriados_df = pd.DataFrame(feriados)"
   ]
  },
  {
   "cell_type": "code",
   "execution_count": 42,
   "metadata": {},
   "outputs": [
    {
     "data": {
      "text/plain": [
       "pandas.core.frame.DataFrame"
      ]
     },
     "execution_count": 42,
     "metadata": {},
     "output_type": "execute_result"
    }
   ],
   "source": [
    "# Type\n",
    "type(feriados_df)"
   ]
  },
  {
   "cell_type": "code",
   "execution_count": 41,
   "metadata": {},
   "outputs": [
    {
     "data": {
      "text/plain": [
       "(44, 1)"
      ]
     },
     "execution_count": 41,
     "metadata": {},
     "output_type": "execute_result"
    }
   ],
   "source": [
    "# Shape\n",
    "feriados_df.shape"
   ]
  },
  {
   "cell_type": "code",
   "execution_count": 45,
   "metadata": {},
   "outputs": [],
   "source": [
    "# Index reset to adjust column names\n",
    "feriados_df.reset_index(level = 0, inplace = True)"
   ]
  },
  {
   "cell_type": "code",
   "execution_count": 46,
   "metadata": {},
   "outputs": [],
   "source": [
    "# Adjust the name of the columns\n",
    "feriados_df.columns = ['data_feriado','feriado']"
   ]
  },
  {
   "cell_type": "code",
   "execution_count": 48,
   "metadata": {},
   "outputs": [
    {
     "data": {
      "text/html": [
       "<div>\n",
       "<style scoped>\n",
       "    .dataframe tbody tr th:only-of-type {\n",
       "        vertical-align: middle;\n",
       "    }\n",
       "\n",
       "    .dataframe tbody tr th {\n",
       "        vertical-align: top;\n",
       "    }\n",
       "\n",
       "    .dataframe thead th {\n",
       "        text-align: right;\n",
       "    }\n",
       "</style>\n",
       "<table border=\"1\" class=\"dataframe\">\n",
       "  <thead>\n",
       "    <tr style=\"text-align: right;\">\n",
       "      <th></th>\n",
       "      <th>data_feriado</th>\n",
       "      <th>feriado</th>\n",
       "    </tr>\n",
       "  </thead>\n",
       "  <tbody>\n",
       "    <tr>\n",
       "      <th>0</th>\n",
       "      <td>2016-01-01</td>\n",
       "      <td>New Year's Day</td>\n",
       "    </tr>\n",
       "    <tr>\n",
       "      <th>1</th>\n",
       "      <td>2016-01-18</td>\n",
       "      <td>Martin Luther King Jr. Day</td>\n",
       "    </tr>\n",
       "    <tr>\n",
       "      <th>2</th>\n",
       "      <td>2016-02-15</td>\n",
       "      <td>Washington's Birthday</td>\n",
       "    </tr>\n",
       "    <tr>\n",
       "      <th>3</th>\n",
       "      <td>2016-05-30</td>\n",
       "      <td>Memorial Day</td>\n",
       "    </tr>\n",
       "    <tr>\n",
       "      <th>4</th>\n",
       "      <td>2016-07-04</td>\n",
       "      <td>Independence Day</td>\n",
       "    </tr>\n",
       "  </tbody>\n",
       "</table>\n",
       "</div>"
      ],
      "text/plain": [
       "  data_feriado                     feriado\n",
       "0   2016-01-01              New Year's Day\n",
       "1   2016-01-18  Martin Luther King Jr. Day\n",
       "2   2016-02-15       Washington's Birthday\n",
       "3   2016-05-30                Memorial Day\n",
       "4   2016-07-04            Independence Day"
      ]
     },
     "execution_count": 48,
     "metadata": {},
     "output_type": "execute_result"
    }
   ],
   "source": [
    "# View\n",
    "feriados_df.head()"
   ]
  },
  {
   "cell_type": "code",
   "execution_count": 49,
   "metadata": {},
   "outputs": [
    {
     "data": {
      "text/plain": [
       "data_feriado    object\n",
       "feriado         object\n",
       "dtype: object"
      ]
     },
     "execution_count": 49,
     "metadata": {},
     "output_type": "execute_result"
    }
   ],
   "source": [
    "#Type\n",
    "feriados_df.dtypes"
   ]
  },
  {
   "cell_type": "code",
   "execution_count": 51,
   "metadata": {},
   "outputs": [],
   "source": [
    "# Let's leave the date column as a datetime type, as we will need this in a litle while\n",
    "feriados_df['data_feriado'] = pd.to_datetime(feriados_df['data_feriado'])"
   ]
  },
  {
   "cell_type": "markdown",
   "metadata": {},
   "source": [
    "Perfeito. Já temos a série com os feriados.\n",
    "\n",
    "Devemos adicionar ao nosso dataset agora? A resposta é não, pois não estamos usando o dataset inteiro, mas sim a média de vendas de produtos de tecnologia. Seria desperdício de recurso e de tempo adcionar agora.\n",
    "\n",
    "Vamos preparar nossa série de média de vendas (como fizemos nas aulas anteriores) e aí sim adicionaremos a coluna com o feriado. Fique atento."
   ]
  },
  {
   "cell_type": "markdown",
   "metadata": {},
   "source": [
    "Vamos separar os dados por categoria (Móveis, Tecnologia, Material de escritório)."
   ]
  },
  {
   "cell_type": "code",
   "execution_count": 52,
   "metadata": {},
   "outputs": [],
   "source": [
    "# Separating data by category\n",
    "\n",
    "df_tecnologia = dados.loc[dados['category'] == 'Technology']"
   ]
  },
  {
   "cell_type": "markdown",
   "metadata": {},
   "source": [
    "Agora vamos preparar as séries temporais."
   ]
  },
  {
   "cell_type": "code",
   "execution_count": 53,
   "metadata": {},
   "outputs": [],
   "source": [
    "# Aggregating sales by order date\n",
    "ts_tecnologia = df_tecnologia.groupby('order_date')['sales'].sum().reset_index()"
   ]
  },
  {
   "cell_type": "code",
   "execution_count": 54,
   "metadata": {},
   "outputs": [
    {
     "data": {
      "text/html": [
       "<div>\n",
       "<style scoped>\n",
       "    .dataframe tbody tr th:only-of-type {\n",
       "        vertical-align: middle;\n",
       "    }\n",
       "\n",
       "    .dataframe tbody tr th {\n",
       "        vertical-align: top;\n",
       "    }\n",
       "\n",
       "    .dataframe thead th {\n",
       "        text-align: right;\n",
       "    }\n",
       "</style>\n",
       "<table border=\"1\" class=\"dataframe\">\n",
       "  <thead>\n",
       "    <tr style=\"text-align: right;\">\n",
       "      <th></th>\n",
       "      <th>order_date</th>\n",
       "      <th>sales</th>\n",
       "    </tr>\n",
       "  </thead>\n",
       "  <tbody>\n",
       "    <tr>\n",
       "      <th>0</th>\n",
       "      <td>2014-01-06</td>\n",
       "      <td>1147.940</td>\n",
       "    </tr>\n",
       "    <tr>\n",
       "      <th>1</th>\n",
       "      <td>2014-01-09</td>\n",
       "      <td>31.200</td>\n",
       "    </tr>\n",
       "    <tr>\n",
       "      <th>2</th>\n",
       "      <td>2014-01-13</td>\n",
       "      <td>646.740</td>\n",
       "    </tr>\n",
       "    <tr>\n",
       "      <th>3</th>\n",
       "      <td>2014-01-15</td>\n",
       "      <td>149.950</td>\n",
       "    </tr>\n",
       "    <tr>\n",
       "      <th>4</th>\n",
       "      <td>2014-01-16</td>\n",
       "      <td>124.200</td>\n",
       "    </tr>\n",
       "    <tr>\n",
       "      <th>...</th>\n",
       "      <td>...</td>\n",
       "      <td>...</td>\n",
       "    </tr>\n",
       "    <tr>\n",
       "      <th>819</th>\n",
       "      <td>2017-12-25</td>\n",
       "      <td>401.208</td>\n",
       "    </tr>\n",
       "    <tr>\n",
       "      <th>820</th>\n",
       "      <td>2017-12-27</td>\n",
       "      <td>164.388</td>\n",
       "    </tr>\n",
       "    <tr>\n",
       "      <th>821</th>\n",
       "      <td>2017-12-28</td>\n",
       "      <td>14.850</td>\n",
       "    </tr>\n",
       "    <tr>\n",
       "      <th>822</th>\n",
       "      <td>2017-12-29</td>\n",
       "      <td>302.376</td>\n",
       "    </tr>\n",
       "    <tr>\n",
       "      <th>823</th>\n",
       "      <td>2017-12-30</td>\n",
       "      <td>90.930</td>\n",
       "    </tr>\n",
       "  </tbody>\n",
       "</table>\n",
       "<p>824 rows × 2 columns</p>\n",
       "</div>"
      ],
      "text/plain": [
       "     order_date     sales\n",
       "0    2014-01-06  1147.940\n",
       "1    2014-01-09    31.200\n",
       "2    2014-01-13   646.740\n",
       "3    2014-01-15   149.950\n",
       "4    2014-01-16   124.200\n",
       "..          ...       ...\n",
       "819  2017-12-25   401.208\n",
       "820  2017-12-27   164.388\n",
       "821  2017-12-28    14.850\n",
       "822  2017-12-29   302.376\n",
       "823  2017-12-30    90.930\n",
       "\n",
       "[824 rows x 2 columns]"
      ]
     },
     "execution_count": 54,
     "metadata": {},
     "output_type": "execute_result"
    }
   ],
   "source": [
    "# How is each dataset doing?\n",
    "ts_tecnologia"
   ]
  },
  {
   "cell_type": "markdown",
   "metadata": {},
   "source": [
    "Vamos mover a data para o índice e assim criar a série temporal."
   ]
  },
  {
   "cell_type": "code",
   "execution_count": 55,
   "metadata": {},
   "outputs": [],
   "source": [
    "# Putting the date as an index\n",
    "ts_tecnologia = ts_tecnologia.set_index('order_date')"
   ]
  },
  {
   "cell_type": "code",
   "execution_count": 56,
   "metadata": {},
   "outputs": [
    {
     "data": {
      "text/html": [
       "<div>\n",
       "<style scoped>\n",
       "    .dataframe tbody tr th:only-of-type {\n",
       "        vertical-align: middle;\n",
       "    }\n",
       "\n",
       "    .dataframe tbody tr th {\n",
       "        vertical-align: top;\n",
       "    }\n",
       "\n",
       "    .dataframe thead th {\n",
       "        text-align: right;\n",
       "    }\n",
       "</style>\n",
       "<table border=\"1\" class=\"dataframe\">\n",
       "  <thead>\n",
       "    <tr style=\"text-align: right;\">\n",
       "      <th></th>\n",
       "      <th>sales</th>\n",
       "    </tr>\n",
       "    <tr>\n",
       "      <th>order_date</th>\n",
       "      <th></th>\n",
       "    </tr>\n",
       "  </thead>\n",
       "  <tbody>\n",
       "    <tr>\n",
       "      <th>2014-01-06</th>\n",
       "      <td>1147.940</td>\n",
       "    </tr>\n",
       "    <tr>\n",
       "      <th>2014-01-09</th>\n",
       "      <td>31.200</td>\n",
       "    </tr>\n",
       "    <tr>\n",
       "      <th>2014-01-13</th>\n",
       "      <td>646.740</td>\n",
       "    </tr>\n",
       "    <tr>\n",
       "      <th>2014-01-15</th>\n",
       "      <td>149.950</td>\n",
       "    </tr>\n",
       "    <tr>\n",
       "      <th>2014-01-16</th>\n",
       "      <td>124.200</td>\n",
       "    </tr>\n",
       "    <tr>\n",
       "      <th>...</th>\n",
       "      <td>...</td>\n",
       "    </tr>\n",
       "    <tr>\n",
       "      <th>2017-12-25</th>\n",
       "      <td>401.208</td>\n",
       "    </tr>\n",
       "    <tr>\n",
       "      <th>2017-12-27</th>\n",
       "      <td>164.388</td>\n",
       "    </tr>\n",
       "    <tr>\n",
       "      <th>2017-12-28</th>\n",
       "      <td>14.850</td>\n",
       "    </tr>\n",
       "    <tr>\n",
       "      <th>2017-12-29</th>\n",
       "      <td>302.376</td>\n",
       "    </tr>\n",
       "    <tr>\n",
       "      <th>2017-12-30</th>\n",
       "      <td>90.930</td>\n",
       "    </tr>\n",
       "  </tbody>\n",
       "</table>\n",
       "<p>824 rows × 1 columns</p>\n",
       "</div>"
      ],
      "text/plain": [
       "               sales\n",
       "order_date          \n",
       "2014-01-06  1147.940\n",
       "2014-01-09    31.200\n",
       "2014-01-13   646.740\n",
       "2014-01-15   149.950\n",
       "2014-01-16   124.200\n",
       "...              ...\n",
       "2017-12-25   401.208\n",
       "2017-12-27   164.388\n",
       "2017-12-28    14.850\n",
       "2017-12-29   302.376\n",
       "2017-12-30    90.930\n",
       "\n",
       "[824 rows x 1 columns]"
      ]
     },
     "execution_count": 56,
     "metadata": {},
     "output_type": "execute_result"
    }
   ],
   "source": [
    "# View the serie\n",
    "ts_tecnologia"
   ]
  },
  {
   "cell_type": "markdown",
   "metadata": {},
   "source": [
    "Agora podemos conferir a performance de vendas ao longo do tempo."
   ]
  },
  {
   "cell_type": "code",
   "execution_count": 57,
   "metadata": {},
   "outputs": [
    {
     "data": {
      "image/png": "[encoded data removed]",
      "text/plain": [
       "<Figure size 1296x432 with 1 Axes>"
      ]
     },
     "metadata": {
      "needs_background": "light"
     },
     "output_type": "display_data"
    }
   ],
   "source": [
    "# Sale of technology Products\n",
    "vendas_tecnologia = ts_tecnologia[['sales']]\n",
    "ax = vendas_tecnologia.plot(color = 'b', figsize = (18,6))\n",
    "plt.xlabel(\"Data\")\n",
    "plt.ylabel('Vendas')\n",
    "plt.title(\"Venda de Produtos de Tecnologia\")\n",
    "plt.show()"
   ]
  },
  {
   "cell_type": "markdown",
   "metadata": {},
   "source": [
    "Vamos ajustar o indice do tipo Index para o tipo DateTimeIndex (o que caracteriza uma série temporal), pois faremos uma agregação pela média para analisar a venda média ao longo do tempo."
   ]
  },
  {
   "cell_type": "code",
   "execution_count": 62,
   "metadata": {},
   "outputs": [],
   "source": [
    "# Chaging the index type\n",
    "vendas_tecnologia.index = pd.to_datetime(vendas_tecnologia.index)"
   ]
  },
  {
   "cell_type": "code",
   "execution_count": 63,
   "metadata": {},
   "outputs": [
    {
     "data": {
      "text/plain": [
       "pandas.core.indexes.datetimes.DatetimeIndex"
      ]
     },
     "execution_count": 63,
     "metadata": {},
     "output_type": "execute_result"
    }
   ],
   "source": [
    "# Checking the index type\n",
    "type(vendas_tecnologia.index)"
   ]
  },
  {
   "cell_type": "code",
   "execution_count": 64,
   "metadata": {},
   "outputs": [
    {
     "data": {
      "text/plain": [
       "pandas.core.indexes.datetimes.DatetimeIndex"
      ]
     },
     "execution_count": 64,
     "metadata": {},
     "output_type": "execute_result"
    }
   ],
   "source": [
    "# Checking the index type\n",
    "type(vendas_tecnologia.index)"
   ]
  },
  {
   "cell_type": "code",
   "execution_count": 65,
   "metadata": {},
   "outputs": [],
   "source": [
    "# Resampling data for monthly frequency\n",
    "# Using the average value of daily sales - we define the month as an index\n",
    "media_vendas_tecnologia = vendas_tecnologia['sales'].resample('MS').mean()"
   ]
  },
  {
   "cell_type": "code",
   "execution_count": 66,
   "metadata": {},
   "outputs": [
    {
     "data": {
      "text/plain": [
       "pandas.core.series.Series"
      ]
     },
     "execution_count": 66,
     "metadata": {},
     "output_type": "execute_result"
    }
   ],
   "source": [
    "# Checking the resulting type\n",
    "type(media_vendas_tecnologia)"
   ]
  },
  {
   "cell_type": "code",
   "execution_count": 67,
   "metadata": {},
   "outputs": [
    {
     "data": {
      "text/plain": [
       "order_date\n",
       "2014-01-01     449.041429\n",
       "2014-02-01     229.787143\n",
       "2014-03-01    2031.948375\n",
       "2014-04-01     613.028933\n",
       "2014-05-01     564.698588\n",
       "2014-06-01     766.905909\n",
       "2014-07-01     533.608933\n",
       "2014-08-01     708.435385\n",
       "2014-09-01    2035.838133\n",
       "2014-10-01     596.900900\n",
       "2014-11-01    1208.056320\n",
       "2014-12-01    1160.732889\n",
       "2015-01-01     925.070800\n",
       "2015-02-01     431.121250\n",
       "2015-03-01     574.662333\n",
       "2015-04-01     697.559500\n",
       "2015-05-01     831.642857\n",
       "2015-06-01     429.024400\n",
       "2015-07-01     691.397733\n",
       "2015-08-01    1108.902286\n",
       "2015-09-01     950.856400\n",
       "2015-10-01     594.716111\n",
       "2015-11-01    1037.982652\n",
       "2015-12-01    1619.637636\n",
       "2016-01-01     374.671067\n",
       "2016-02-01    1225.891400\n",
       "2016-03-01    1135.150105\n",
       "2016-04-01     875.911882\n",
       "2016-05-01    1601.816167\n",
       "2016-06-01    1023.259500\n",
       "2016-07-01     829.312500\n",
       "2016-08-01     483.620100\n",
       "2016-09-01    1144.170300\n",
       "2016-10-01    1970.835875\n",
       "2016-11-01    1085.642360\n",
       "2016-12-01     970.554870\n",
       "2017-01-01    1195.218071\n",
       "2017-02-01     430.501714\n",
       "2017-03-01    1392.859250\n",
       "2017-04-01     825.559133\n",
       "2017-05-01     678.329400\n",
       "2017-06-01     853.055000\n",
       "2017-07-01    1054.996636\n",
       "2017-08-01     978.842333\n",
       "2017-09-01    1077.704120\n",
       "2017-10-01    1493.439227\n",
       "2017-11-01    1996.750920\n",
       "2017-12-01     955.865652\n",
       "Freq: MS, Name: sales, dtype: float64"
      ]
     },
     "execution_count": 67,
     "metadata": {},
     "output_type": "execute_result"
    }
   ],
   "source": [
    "# Checking the data\n",
    "media_vendas_tecnologia"
   ]
  },
  {
   "cell_type": "code",
   "execution_count": 68,
   "metadata": {},
   "outputs": [
    {
     "data": {
      "image/png": "[encoded data removed]",
      "text/plain": [
       "<Figure size 1296x432 with 1 Axes>"
      ]
     },
     "metadata": {
      "needs_background": "light"
     },
     "output_type": "display_data"
    }
   ],
   "source": [
    "# Average Sale of technology Products\n",
    "media_vendas_tecnologia.plot(figsize = (18, 6), color = 'blue')\n",
    "plt.xlabel(\"Data de Compra\")\n",
    "plt.ylabel('Vendas')\n",
    "plt.title(\"Venda Média de Produtos de Tecnologia\")\n",
    "plt.show()"
   ]
  },
  {
   "cell_type": "markdown",
   "metadata": {},
   "source": [
    "Agora, vamos decompor uma das séries para avaliar seus componentes."
   ]
  },
  {
   "cell_type": "code",
   "execution_count": 69,
   "metadata": {},
   "outputs": [
    {
     "data": {
      "image/png": "[encoded data removed]",
      "text/plain": [
       "<Figure size 1296x864 with 4 Axes>"
      ]
     },
     "metadata": {
      "needs_background": "light"
     },
     "output_type": "display_data"
    }
   ],
   "source": [
    "# Decomposition of the average salers time series of technology products\n",
    "decomposition = seasonal_decompose(media_vendas_tecnologia, period = 12)\n",
    "rcParams['figure.figsize'] = 18, 12\n",
    "\n",
    "# Components\n",
    "trend = decomposition.trend\n",
    "seasonal = decomposition.seasonal\n",
    "residual = decomposition.resid\n",
    "\n",
    "# Plot\n",
    "plt.subplot(411)\n",
    "plt.plot(media_vendas_tecnologia, label = 'Série Original')\n",
    "plt.legend(loc = 'best')\n",
    "plt.subplot(412)\n",
    "plt.plot(trend, label = 'Tendência')\n",
    "plt.legend(loc = 'best')\n",
    "plt.subplot(413)\n",
    "plt.plot(seasonal, label = 'Sazonalidade')\n",
    "plt.legend(loc = 'best')\n",
    "plt.subplot(414)\n",
    "plt.plot(residual, label = 'Resíduos')\n",
    "plt.legend(loc = 'best')\n",
    "plt.tight_layout()"
   ]
  },
  {
   "cell_type": "markdown",
   "metadata": {},
   "source": [
    "Vamos testar a estacionaridade."
   ]
  },
  {
   "cell_type": "code",
   "execution_count": 70,
   "metadata": {},
   "outputs": [],
   "source": [
    "# Function to test stationarity\n",
    "def testa_estacionaridade(serie):\n",
    "    \n",
    "    # Calculates mobile statistics\n",
    "    rolmean = serie.rolling(window = 12).mean()\n",
    "    rolstd = serie.rolling(window = 12).std()\n",
    "\n",
    "    # Plot of mobile statistics\n",
    "    orig = plt.plot(serie, color = 'blue', label = 'Original')\n",
    "    mean = plt.plot(rolmean, color = 'red', label = 'Média Móvel')\n",
    "    std = plt.plot(rolstd, color = 'black', label = 'Desvio Padrão')\n",
    "    plt.legend(loc = 'best')\n",
    "    plt.title('Estatísticas Móveis - Média e Desvio Padrão')\n",
    "    plt.show()\n",
    "    \n",
    "    # Dickey-Fuller test:\n",
    "    # Print\n",
    "    print('\\nResultado do Teste Dickey-Fuller:\\n')\n",
    "\n",
    "    # Test\n",
    "    dfteste = adfuller(serie, autolag = 'AIC')\n",
    "\n",
    "    # Formatting the output\n",
    "    dfsaida = pd.Series(dfteste[0:4], index = ['Estatística do Teste',\n",
    "                                               'Valor-p',\n",
    "                                               'Número de Lags Consideradas',\n",
    "                                               'Número de Observações Usadas'])\n",
    "\n",
    "\n",
    "    # Loop for each test output item\n",
    "    for key, value in dfteste[4].items():\n",
    "        dfsaida['Valor Crítico (%s)'%key] = value\n",
    "\n",
    "    # Print\n",
    "    print (dfsaida)\n",
    "    \n",
    "    # Test the valor-p\n",
    "    print ('\\nConclusão:')\n",
    "    if dfsaida[1] > 0.05:\n",
    "        print('\\nO valor-p é maior que 0.05 e, portanto, não temos evidências para rejeitar a hipótese nula.')\n",
    "        print('Essa série provavelmente não é estacionária.')\n",
    "    else:\n",
    "        print('\\nO valor-p é menor que 0.05 e, portanto, temos evidências para rejeitar a hipótese nula.')\n",
    "        print('Essa série provavelmente é estacionária.')"
   ]
  },
  {
   "cell_type": "code",
   "execution_count": 71,
   "metadata": {},
   "outputs": [
    {
     "data": {
      "image/png": "[encoded data removed]",
      "text/plain": [
       "<Figure size 1296x864 with 1 Axes>"
      ]
     },
     "metadata": {
      "needs_background": "light"
     },
     "output_type": "display_data"
    },
    {
     "name": "stdout",
     "output_type": "stream",
     "text": [
      "\n",
      "Resultado do Teste Dickey-Fuller:\n",
      "\n",
      "Estatística do Teste           -7.187969e+00\n",
      "Valor-p                         2.547334e-10\n",
      "Número de Lags Consideradas     0.000000e+00\n",
      "Número de Observações Usadas    4.700000e+01\n",
      "Valor Crítico (1%)             -3.577848e+00\n",
      "Valor Crítico (5%)             -2.925338e+00\n",
      "Valor Crítico (10%)            -2.600774e+00\n",
      "dtype: float64\n",
      "\n",
      "Conclusão:\n",
      "\n",
      "O valor-p é menor que 0.05 e, portanto, temos evidências para rejeitar a hipótese nula.\n",
      "Essa série provavelmente é estacionária.\n"
     ]
    }
   ],
   "source": [
    "# Chacks whether the series is stationary\n",
    "testa_estacionaridade(media_vendas_tecnologia)"
   ]
  },
  {
   "cell_type": "markdown",
   "metadata": {},
   "source": [
    "### Adicionando Feriado (Variável Exógena) a Nossa Série"
   ]
  },
  {
   "cell_type": "markdown",
   "metadata": {},
   "source": [
    "A função abaixo compara as datas de dois dataframes, nossa série de vendas e nossa série de feriados. Quando a data for igual, preenchemos um vetor com 1 e quando for diferente preenchemos com 0. Simples, não? Criaremos uma variável categórica que será usada como variável exógena.\n",
    "\n",
    "Mas teremos que converter nossa série em dataframe, fazer a operação e depois retornar para série."
   ]
  },
  {
   "cell_type": "code",
   "execution_count": 75,
   "metadata": {},
   "outputs": [],
   "source": [
    "# Function\n",
    "def adiciona_feriado(x):\n",
    "    #apply the rule\n",
    "    batch_df = feriados_df.apply(lambda y: 1 if (x['order_date'] == y['data_feriado']) else None, axis = 1)\n",
    "    \n",
    "    # Clear null values\n",
    "    batch_df = batch_df.dropna(axis = 0, how = 'all')\n",
    "    \n",
    "    # If empty, fill in with 0\n",
    "    if batch_df.empty:\n",
    "        batch_df = 0\n",
    "    else:\n",
    "        batch_df = batch_df.to_string(index = False)\n",
    "        \n",
    "    return batch_df"
   ]
  },
  {
   "cell_type": "code",
   "execution_count": 76,
   "metadata": {},
   "outputs": [
    {
     "data": {
      "text/plain": [
       "pandas.core.series.Series"
      ]
     },
     "execution_count": 76,
     "metadata": {},
     "output_type": "execute_result"
    }
   ],
   "source": [
    "# Confirms the object type\n",
    "type(media_vendas_tecnologiacnologia)"
   ]
  },
  {
   "cell_type": "code",
   "execution_count": 79,
   "metadata": {},
   "outputs": [],
   "source": [
    "# Create a dataset from the series\n",
    "media_vendas_tecnologia_df = pd.DataFrame(media_vendas_tecnologia)"
   ]
  },
  {
   "cell_type": "code",
   "execution_count": 80,
   "metadata": {},
   "outputs": [
    {
     "data": {
      "text/plain": [
       "pandas.core.frame.DataFrame"
      ]
     },
     "execution_count": 80,
     "metadata": {},
     "output_type": "execute_result"
    }
   ],
   "source": [
    "# Confirm the object type\n",
    "type(media_vendas_tecnologia_df)"
   ]
  },
  {
   "cell_type": "code",
   "execution_count": 82,
   "metadata": {},
   "outputs": [],
   "source": [
    "# Index reset to adjust the columns\n",
    "media_vendas_tecnologia_df.reset_index(level = 0, inplace = True)"
   ]
  },
  {
   "cell_type": "code",
   "execution_count": 83,
   "metadata": {},
   "outputs": [],
   "source": [
    "# Adjust the name of the columns\n",
    "media_vendas_tecnologia_df.columns = ['order_date','sales']"
   ]
  },
  {
   "cell_type": "code",
   "execution_count": 84,
   "metadata": {},
   "outputs": [
    {
     "data": {
      "text/html": [
       "<div>\n",
       "<style scoped>\n",
       "    .dataframe tbody tr th:only-of-type {\n",
       "        vertical-align: middle;\n",
       "    }\n",
       "\n",
       "    .dataframe tbody tr th {\n",
       "        vertical-align: top;\n",
       "    }\n",
       "\n",
       "    .dataframe thead th {\n",
       "        text-align: right;\n",
       "    }\n",
       "</style>\n",
       "<table border=\"1\" class=\"dataframe\">\n",
       "  <thead>\n",
       "    <tr style=\"text-align: right;\">\n",
       "      <th></th>\n",
       "      <th>order_date</th>\n",
       "      <th>sales</th>\n",
       "    </tr>\n",
       "  </thead>\n",
       "  <tbody>\n",
       "    <tr>\n",
       "      <th>0</th>\n",
       "      <td>2014-01-01</td>\n",
       "      <td>449.041429</td>\n",
       "    </tr>\n",
       "    <tr>\n",
       "      <th>1</th>\n",
       "      <td>2014-02-01</td>\n",
       "      <td>229.787143</td>\n",
       "    </tr>\n",
       "    <tr>\n",
       "      <th>2</th>\n",
       "      <td>2014-03-01</td>\n",
       "      <td>2031.948375</td>\n",
       "    </tr>\n",
       "  </tbody>\n",
       "</table>\n",
       "</div>"
      ],
      "text/plain": [
       "  order_date        sales\n",
       "0 2014-01-01   449.041429\n",
       "1 2014-02-01   229.787143\n",
       "2 2014-03-01  2031.948375"
      ]
     },
     "execution_count": 84,
     "metadata": {},
     "output_type": "execute_result"
    }
   ],
   "source": [
    "# View\n",
    "media_vendas_tecnologia_df.head(3)"
   ]
  },
  {
   "cell_type": "code",
   "execution_count": 85,
   "metadata": {},
   "outputs": [
    {
     "data": {
      "text/plain": [
       "order_date    datetime64[ns]\n",
       "sales                float64\n",
       "dtype: object"
      ]
     },
     "execution_count": 85,
     "metadata": {},
     "output_type": "execute_result"
    }
   ],
   "source": [
    "# Type\n",
    "media_vendas_tecnologia_df.dtypes"
   ]
  },
  {
   "cell_type": "code",
   "execution_count": 87,
   "metadata": {},
   "outputs": [],
   "source": [
    "# We apply the function and create the holidays column\n",
    "media_vendas_tecnologia_df['feriado'] = media_vendas_tecnologia_df.apply(adiciona_feriado, axis = 1)"
   ]
  },
  {
   "cell_type": "code",
   "execution_count": 88,
   "metadata": {},
   "outputs": [
    {
     "data": {
      "text/html": [
       "<div>\n",
       "<style scoped>\n",
       "    .dataframe tbody tr th:only-of-type {\n",
       "        vertical-align: middle;\n",
       "    }\n",
       "\n",
       "    .dataframe tbody tr th {\n",
       "        vertical-align: top;\n",
       "    }\n",
       "\n",
       "    .dataframe thead th {\n",
       "        text-align: right;\n",
       "    }\n",
       "</style>\n",
       "<table border=\"1\" class=\"dataframe\">\n",
       "  <thead>\n",
       "    <tr style=\"text-align: right;\">\n",
       "      <th></th>\n",
       "      <th>order_date</th>\n",
       "      <th>sales</th>\n",
       "      <th>feriado</th>\n",
       "    </tr>\n",
       "  </thead>\n",
       "  <tbody>\n",
       "    <tr>\n",
       "      <th>0</th>\n",
       "      <td>2014-01-01</td>\n",
       "      <td>449.041429</td>\n",
       "      <td>1.0</td>\n",
       "    </tr>\n",
       "    <tr>\n",
       "      <th>1</th>\n",
       "      <td>2014-02-01</td>\n",
       "      <td>229.787143</td>\n",
       "      <td>0</td>\n",
       "    </tr>\n",
       "    <tr>\n",
       "      <th>2</th>\n",
       "      <td>2014-03-01</td>\n",
       "      <td>2031.948375</td>\n",
       "      <td>0</td>\n",
       "    </tr>\n",
       "  </tbody>\n",
       "</table>\n",
       "</div>"
      ],
      "text/plain": [
       "  order_date        sales feriado\n",
       "0 2014-01-01   449.041429     1.0\n",
       "1 2014-02-01   229.787143       0\n",
       "2 2014-03-01  2031.948375       0"
      ]
     },
     "execution_count": 88,
     "metadata": {},
     "output_type": "execute_result"
    }
   ],
   "source": [
    "# View\n",
    "media_vendas_tecnologia_df.head(3)"
   ]
  },
  {
   "cell_type": "markdown",
   "metadata": {},
   "source": [
    "Está ficando bonito. Mas não gostei do valor float em 1.0. Isso vai atrapalhar meus planos. Temos solução para isso também."
   ]
  },
  {
   "cell_type": "code",
   "execution_count": 90,
   "metadata": {},
   "outputs": [],
   "source": [
    "# Converting the holiday column to an integer\n",
    "media_vendas_tecnologia_df['feriado'] = pd.to_numeric(media_vendas_tecnologia_df['feriado'], downcast = 'integer')"
   ]
  },
  {
   "cell_type": "code",
   "execution_count": 91,
   "metadata": {},
   "outputs": [
    {
     "data": {
      "text/html": [
       "<div>\n",
       "<style scoped>\n",
       "    .dataframe tbody tr th:only-of-type {\n",
       "        vertical-align: middle;\n",
       "    }\n",
       "\n",
       "    .dataframe tbody tr th {\n",
       "        vertical-align: top;\n",
       "    }\n",
       "\n",
       "    .dataframe thead th {\n",
       "        text-align: right;\n",
       "    }\n",
       "</style>\n",
       "<table border=\"1\" class=\"dataframe\">\n",
       "  <thead>\n",
       "    <tr style=\"text-align: right;\">\n",
       "      <th></th>\n",
       "      <th>order_date</th>\n",
       "      <th>sales</th>\n",
       "      <th>feriado</th>\n",
       "    </tr>\n",
       "  </thead>\n",
       "  <tbody>\n",
       "    <tr>\n",
       "      <th>0</th>\n",
       "      <td>2014-01-01</td>\n",
       "      <td>449.041429</td>\n",
       "      <td>1</td>\n",
       "    </tr>\n",
       "    <tr>\n",
       "      <th>1</th>\n",
       "      <td>2014-02-01</td>\n",
       "      <td>229.787143</td>\n",
       "      <td>0</td>\n",
       "    </tr>\n",
       "    <tr>\n",
       "      <th>2</th>\n",
       "      <td>2014-03-01</td>\n",
       "      <td>2031.948375</td>\n",
       "      <td>0</td>\n",
       "    </tr>\n",
       "  </tbody>\n",
       "</table>\n",
       "</div>"
      ],
      "text/plain": [
       "  order_date        sales  feriado\n",
       "0 2014-01-01   449.041429        1\n",
       "1 2014-02-01   229.787143        0\n",
       "2 2014-03-01  2031.948375        0"
      ]
     },
     "execution_count": 91,
     "metadata": {},
     "output_type": "execute_result"
    }
   ],
   "source": [
    "# View\n",
    "media_vendas_tecnologia_df.head(3)"
   ]
  },
  {
   "cell_type": "code",
   "execution_count": 93,
   "metadata": {},
   "outputs": [],
   "source": [
    "# Let's define order_date as an index\n",
    "media_vendas_tecnologia_df.set_index('order_date', inplace = True)"
   ]
  },
  {
   "cell_type": "code",
   "execution_count": 94,
   "metadata": {},
   "outputs": [
    {
     "data": {
      "text/html": [
       "<div>\n",
       "<style scoped>\n",
       "    .dataframe tbody tr th:only-of-type {\n",
       "        vertical-align: middle;\n",
       "    }\n",
       "\n",
       "    .dataframe tbody tr th {\n",
       "        vertical-align: top;\n",
       "    }\n",
       "\n",
       "    .dataframe thead th {\n",
       "        text-align: right;\n",
       "    }\n",
       "</style>\n",
       "<table border=\"1\" class=\"dataframe\">\n",
       "  <thead>\n",
       "    <tr style=\"text-align: right;\">\n",
       "      <th></th>\n",
       "      <th>sales</th>\n",
       "      <th>feriado</th>\n",
       "    </tr>\n",
       "    <tr>\n",
       "      <th>order_date</th>\n",
       "      <th></th>\n",
       "      <th></th>\n",
       "    </tr>\n",
       "  </thead>\n",
       "  <tbody>\n",
       "    <tr>\n",
       "      <th>2014-01-01</th>\n",
       "      <td>449.041429</td>\n",
       "      <td>1</td>\n",
       "    </tr>\n",
       "    <tr>\n",
       "      <th>2014-02-01</th>\n",
       "      <td>229.787143</td>\n",
       "      <td>0</td>\n",
       "    </tr>\n",
       "    <tr>\n",
       "      <th>2014-03-01</th>\n",
       "      <td>2031.948375</td>\n",
       "      <td>0</td>\n",
       "    </tr>\n",
       "  </tbody>\n",
       "</table>\n",
       "</div>"
      ],
      "text/plain": [
       "                  sales  feriado\n",
       "order_date                      \n",
       "2014-01-01   449.041429        1\n",
       "2014-02-01   229.787143        0\n",
       "2014-03-01  2031.948375        0"
      ]
     },
     "execution_count": 94,
     "metadata": {},
     "output_type": "execute_result"
    }
   ],
   "source": [
    "# View\n",
    "media_vendas_tecnologia_df.head(3)"
   ]
  },
  {
   "cell_type": "code",
   "execution_count": 96,
   "metadata": {},
   "outputs": [],
   "source": [
    "#I will deletre the original serie\n",
    "del media_vendas_tecnologia"
   ]
  },
  {
   "cell_type": "code",
   "execution_count": 97,
   "metadata": {},
   "outputs": [],
   "source": [
    "# and Create it\n",
    "media_vendas_tecnologia = media_vendas_tecnologia_df"
   ]
  },
  {
   "cell_type": "code",
   "execution_count": 99,
   "metadata": {},
   "outputs": [
    {
     "data": {
      "text/html": [
       "<div>\n",
       "<style scoped>\n",
       "    .dataframe tbody tr th:only-of-type {\n",
       "        vertical-align: middle;\n",
       "    }\n",
       "\n",
       "    .dataframe tbody tr th {\n",
       "        vertical-align: top;\n",
       "    }\n",
       "\n",
       "    .dataframe thead th {\n",
       "        text-align: right;\n",
       "    }\n",
       "</style>\n",
       "<table border=\"1\" class=\"dataframe\">\n",
       "  <thead>\n",
       "    <tr style=\"text-align: right;\">\n",
       "      <th></th>\n",
       "      <th>sales</th>\n",
       "      <th>feriado</th>\n",
       "    </tr>\n",
       "    <tr>\n",
       "      <th>order_date</th>\n",
       "      <th></th>\n",
       "      <th></th>\n",
       "    </tr>\n",
       "  </thead>\n",
       "  <tbody>\n",
       "    <tr>\n",
       "      <th>2014-01-01</th>\n",
       "      <td>449.041429</td>\n",
       "      <td>1</td>\n",
       "    </tr>\n",
       "    <tr>\n",
       "      <th>2014-02-01</th>\n",
       "      <td>229.787143</td>\n",
       "      <td>0</td>\n",
       "    </tr>\n",
       "    <tr>\n",
       "      <th>2014-03-01</th>\n",
       "      <td>2031.948375</td>\n",
       "      <td>0</td>\n",
       "    </tr>\n",
       "    <tr>\n",
       "      <th>2014-04-01</th>\n",
       "      <td>613.028933</td>\n",
       "      <td>0</td>\n",
       "    </tr>\n",
       "    <tr>\n",
       "      <th>2014-05-01</th>\n",
       "      <td>564.698588</td>\n",
       "      <td>0</td>\n",
       "    </tr>\n",
       "    <tr>\n",
       "      <th>2014-06-01</th>\n",
       "      <td>766.905909</td>\n",
       "      <td>0</td>\n",
       "    </tr>\n",
       "    <tr>\n",
       "      <th>2014-07-01</th>\n",
       "      <td>533.608933</td>\n",
       "      <td>0</td>\n",
       "    </tr>\n",
       "    <tr>\n",
       "      <th>2014-08-01</th>\n",
       "      <td>708.435385</td>\n",
       "      <td>0</td>\n",
       "    </tr>\n",
       "    <tr>\n",
       "      <th>2014-09-01</th>\n",
       "      <td>2035.838133</td>\n",
       "      <td>1</td>\n",
       "    </tr>\n",
       "    <tr>\n",
       "      <th>2014-10-01</th>\n",
       "      <td>596.900900</td>\n",
       "      <td>0</td>\n",
       "    </tr>\n",
       "    <tr>\n",
       "      <th>2014-11-01</th>\n",
       "      <td>1208.056320</td>\n",
       "      <td>0</td>\n",
       "    </tr>\n",
       "    <tr>\n",
       "      <th>2014-12-01</th>\n",
       "      <td>1160.732889</td>\n",
       "      <td>0</td>\n",
       "    </tr>\n",
       "    <tr>\n",
       "      <th>2015-01-01</th>\n",
       "      <td>925.070800</td>\n",
       "      <td>1</td>\n",
       "    </tr>\n",
       "    <tr>\n",
       "      <th>2015-02-01</th>\n",
       "      <td>431.121250</td>\n",
       "      <td>0</td>\n",
       "    </tr>\n",
       "    <tr>\n",
       "      <th>2015-03-01</th>\n",
       "      <td>574.662333</td>\n",
       "      <td>0</td>\n",
       "    </tr>\n",
       "    <tr>\n",
       "      <th>2015-04-01</th>\n",
       "      <td>697.559500</td>\n",
       "      <td>0</td>\n",
       "    </tr>\n",
       "    <tr>\n",
       "      <th>2015-05-01</th>\n",
       "      <td>831.642857</td>\n",
       "      <td>0</td>\n",
       "    </tr>\n",
       "    <tr>\n",
       "      <th>2015-06-01</th>\n",
       "      <td>429.024400</td>\n",
       "      <td>0</td>\n",
       "    </tr>\n",
       "    <tr>\n",
       "      <th>2015-07-01</th>\n",
       "      <td>691.397733</td>\n",
       "      <td>0</td>\n",
       "    </tr>\n",
       "    <tr>\n",
       "      <th>2015-08-01</th>\n",
       "      <td>1108.902286</td>\n",
       "      <td>0</td>\n",
       "    </tr>\n",
       "    <tr>\n",
       "      <th>2015-09-01</th>\n",
       "      <td>950.856400</td>\n",
       "      <td>0</td>\n",
       "    </tr>\n",
       "    <tr>\n",
       "      <th>2015-10-01</th>\n",
       "      <td>594.716111</td>\n",
       "      <td>0</td>\n",
       "    </tr>\n",
       "    <tr>\n",
       "      <th>2015-11-01</th>\n",
       "      <td>1037.982652</td>\n",
       "      <td>0</td>\n",
       "    </tr>\n",
       "    <tr>\n",
       "      <th>2015-12-01</th>\n",
       "      <td>1619.637636</td>\n",
       "      <td>0</td>\n",
       "    </tr>\n",
       "    <tr>\n",
       "      <th>2016-01-01</th>\n",
       "      <td>374.671067</td>\n",
       "      <td>1</td>\n",
       "    </tr>\n",
       "    <tr>\n",
       "      <th>2016-02-01</th>\n",
       "      <td>1225.891400</td>\n",
       "      <td>0</td>\n",
       "    </tr>\n",
       "    <tr>\n",
       "      <th>2016-03-01</th>\n",
       "      <td>1135.150105</td>\n",
       "      <td>0</td>\n",
       "    </tr>\n",
       "    <tr>\n",
       "      <th>2016-04-01</th>\n",
       "      <td>875.911882</td>\n",
       "      <td>0</td>\n",
       "    </tr>\n",
       "    <tr>\n",
       "      <th>2016-05-01</th>\n",
       "      <td>1601.816167</td>\n",
       "      <td>0</td>\n",
       "    </tr>\n",
       "    <tr>\n",
       "      <th>2016-06-01</th>\n",
       "      <td>1023.259500</td>\n",
       "      <td>0</td>\n",
       "    </tr>\n",
       "    <tr>\n",
       "      <th>2016-07-01</th>\n",
       "      <td>829.312500</td>\n",
       "      <td>0</td>\n",
       "    </tr>\n",
       "    <tr>\n",
       "      <th>2016-08-01</th>\n",
       "      <td>483.620100</td>\n",
       "      <td>0</td>\n",
       "    </tr>\n",
       "    <tr>\n",
       "      <th>2016-09-01</th>\n",
       "      <td>1144.170300</td>\n",
       "      <td>0</td>\n",
       "    </tr>\n",
       "    <tr>\n",
       "      <th>2016-10-01</th>\n",
       "      <td>1970.835875</td>\n",
       "      <td>0</td>\n",
       "    </tr>\n",
       "    <tr>\n",
       "      <th>2016-11-01</th>\n",
       "      <td>1085.642360</td>\n",
       "      <td>0</td>\n",
       "    </tr>\n",
       "    <tr>\n",
       "      <th>2016-12-01</th>\n",
       "      <td>970.554870</td>\n",
       "      <td>0</td>\n",
       "    </tr>\n",
       "    <tr>\n",
       "      <th>2017-01-01</th>\n",
       "      <td>1195.218071</td>\n",
       "      <td>1</td>\n",
       "    </tr>\n",
       "    <tr>\n",
       "      <th>2017-02-01</th>\n",
       "      <td>430.501714</td>\n",
       "      <td>0</td>\n",
       "    </tr>\n",
       "    <tr>\n",
       "      <th>2017-03-01</th>\n",
       "      <td>1392.859250</td>\n",
       "      <td>0</td>\n",
       "    </tr>\n",
       "    <tr>\n",
       "      <th>2017-04-01</th>\n",
       "      <td>825.559133</td>\n",
       "      <td>0</td>\n",
       "    </tr>\n",
       "    <tr>\n",
       "      <th>2017-05-01</th>\n",
       "      <td>678.329400</td>\n",
       "      <td>0</td>\n",
       "    </tr>\n",
       "    <tr>\n",
       "      <th>2017-06-01</th>\n",
       "      <td>853.055000</td>\n",
       "      <td>0</td>\n",
       "    </tr>\n",
       "    <tr>\n",
       "      <th>2017-07-01</th>\n",
       "      <td>1054.996636</td>\n",
       "      <td>0</td>\n",
       "    </tr>\n",
       "    <tr>\n",
       "      <th>2017-08-01</th>\n",
       "      <td>978.842333</td>\n",
       "      <td>0</td>\n",
       "    </tr>\n",
       "    <tr>\n",
       "      <th>2017-09-01</th>\n",
       "      <td>1077.704120</td>\n",
       "      <td>0</td>\n",
       "    </tr>\n",
       "    <tr>\n",
       "      <th>2017-10-01</th>\n",
       "      <td>1493.439227</td>\n",
       "      <td>0</td>\n",
       "    </tr>\n",
       "    <tr>\n",
       "      <th>2017-11-01</th>\n",
       "      <td>1996.750920</td>\n",
       "      <td>0</td>\n",
       "    </tr>\n",
       "    <tr>\n",
       "      <th>2017-12-01</th>\n",
       "      <td>955.865652</td>\n",
       "      <td>0</td>\n",
       "    </tr>\n",
       "  </tbody>\n",
       "</table>\n",
       "</div>"
      ],
      "text/plain": [
       "                  sales  feriado\n",
       "order_date                      \n",
       "2014-01-01   449.041429        1\n",
       "2014-02-01   229.787143        0\n",
       "2014-03-01  2031.948375        0\n",
       "2014-04-01   613.028933        0\n",
       "2014-05-01   564.698588        0\n",
       "2014-06-01   766.905909        0\n",
       "2014-07-01   533.608933        0\n",
       "2014-08-01   708.435385        0\n",
       "2014-09-01  2035.838133        1\n",
       "2014-10-01   596.900900        0\n",
       "2014-11-01  1208.056320        0\n",
       "2014-12-01  1160.732889        0\n",
       "2015-01-01   925.070800        1\n",
       "2015-02-01   431.121250        0\n",
       "2015-03-01   574.662333        0\n",
       "2015-04-01   697.559500        0\n",
       "2015-05-01   831.642857        0\n",
       "2015-06-01   429.024400        0\n",
       "2015-07-01   691.397733        0\n",
       "2015-08-01  1108.902286        0\n",
       "2015-09-01   950.856400        0\n",
       "2015-10-01   594.716111        0\n",
       "2015-11-01  1037.982652        0\n",
       "2015-12-01  1619.637636        0\n",
       "2016-01-01   374.671067        1\n",
       "2016-02-01  1225.891400        0\n",
       "2016-03-01  1135.150105        0\n",
       "2016-04-01   875.911882        0\n",
       "2016-05-01  1601.816167        0\n",
       "2016-06-01  1023.259500        0\n",
       "2016-07-01   829.312500        0\n",
       "2016-08-01   483.620100        0\n",
       "2016-09-01  1144.170300        0\n",
       "2016-10-01  1970.835875        0\n",
       "2016-11-01  1085.642360        0\n",
       "2016-12-01   970.554870        0\n",
       "2017-01-01  1195.218071        1\n",
       "2017-02-01   430.501714        0\n",
       "2017-03-01  1392.859250        0\n",
       "2017-04-01   825.559133        0\n",
       "2017-05-01   678.329400        0\n",
       "2017-06-01   853.055000        0\n",
       "2017-07-01  1054.996636        0\n",
       "2017-08-01   978.842333        0\n",
       "2017-09-01  1077.704120        0\n",
       "2017-10-01  1493.439227        0\n",
       "2017-11-01  1996.750920        0\n",
       "2017-12-01   955.865652        0"
      ]
     },
     "execution_count": 99,
     "metadata": {},
     "output_type": "execute_result"
    }
   ],
   "source": [
    "# View\n",
    "media_vendas_tecnologia"
   ]
  },
  {
   "cell_type": "markdown",
   "metadata": {},
   "source": [
    "Opa.\n",
    "\n",
    "Tem algo estranho.\n",
    "\n",
    "Perceba que a variável exógena aqui não vai funcionar como esperado, pois como nossa série é mensal, a data de venda é sempre o primeiro dia de cada mês e na prática, somente o dia 01 de Janeiro é feriado em cada ano. Para séries de médias mensais uma variáve exógena indicado feriado não parece adequada. Concorda? Claro que podemos trabalhar com a série original de vendas, mas aí estaríamos prevendo a série diária e não mensal.\n",
    "\n",
    "Mas vamos seguir em frente pois quero mostrar algo interessante a você."
   ]
  },
  {
   "cell_type": "markdown",
   "metadata": {},
   "source": [
    "### Dividindo os Dados em Treino e Teste"
   ]
  },
  {
   "cell_type": "code",
   "execution_count": 100,
   "metadata": {},
   "outputs": [],
   "source": [
    "# Devision in training and testing\n",
    "X = media_vendas_tecnologia\n",
    "train_size = int(len(X) * 0.75)\n",
    "trainset, testset = X[0:train_size], X[train_size:]"
   ]
  },
  {
   "cell_type": "code",
   "execution_count": 101,
   "metadata": {},
   "outputs": [
    {
     "data": {
      "text/plain": [
       "36"
      ]
     },
     "execution_count": 101,
     "metadata": {},
     "output_type": "execute_result"
    }
   ],
   "source": [
    "len(trainset)"
   ]
  },
  {
   "cell_type": "code",
   "execution_count": 102,
   "metadata": {},
   "outputs": [
    {
     "data": {
      "text/plain": [
       "12"
      ]
     },
     "execution_count": 102,
     "metadata": {},
     "output_type": "execute_result"
    }
   ],
   "source": [
    "len(testset)"
   ]
  },
  {
   "cell_type": "markdown",
   "metadata": {},
   "source": [
    "Precisamos de um passo adicional aqui, pois a variável exógena não pode ser incluída como variável de dados (simplesmente porque ela não é). O que queremos prever é o total em vendas e não os feriados, certo?"
   ]
  },
  {
   "cell_type": "code",
   "execution_count": 104,
   "metadata": {},
   "outputs": [],
   "source": [
    "# We put only salçes in the data series\n",
    "dados_treino = pd.Series(trainset['sales'])"
   ]
  },
  {
   "cell_type": "code",
   "execution_count": 105,
   "metadata": {},
   "outputs": [],
   "source": [
    "# And only holiday (plus a constant required by statsmodels) in the holiday series\n",
    "exog_var_treino = sm.add_constant(trainset['feriado'])"
   ]
  },
  {
   "cell_type": "code",
   "execution_count": 107,
   "metadata": {},
   "outputs": [
    {
     "data": {
      "text/plain": [
       "pandas.core.frame.DataFrame"
      ]
     },
     "execution_count": 107,
     "metadata": {},
     "output_type": "execute_result"
    }
   ],
   "source": [
    "# Type\n",
    "type(exog_var_treino)"
   ]
  },
  {
   "cell_type": "code",
   "execution_count": 109,
   "metadata": {},
   "outputs": [
    {
     "data": {
      "text/plain": [
       "const      float64\n",
       "feriado       int8\n",
       "dtype: object"
      ]
     },
     "execution_count": 109,
     "metadata": {},
     "output_type": "execute_result"
    }
   ],
   "source": [
    "# View the data type of this object\n",
    "exog_var_treino.dtypes"
   ]
  },
  {
   "cell_type": "code",
   "execution_count": 110,
   "metadata": {},
   "outputs": [
    {
     "data": {
      "text/html": [
       "<div>\n",
       "<style scoped>\n",
       "    .dataframe tbody tr th:only-of-type {\n",
       "        vertical-align: middle;\n",
       "    }\n",
       "\n",
       "    .dataframe tbody tr th {\n",
       "        vertical-align: top;\n",
       "    }\n",
       "\n",
       "    .dataframe thead th {\n",
       "        text-align: right;\n",
       "    }\n",
       "</style>\n",
       "<table border=\"1\" class=\"dataframe\">\n",
       "  <thead>\n",
       "    <tr style=\"text-align: right;\">\n",
       "      <th></th>\n",
       "      <th>const</th>\n",
       "      <th>feriado</th>\n",
       "    </tr>\n",
       "    <tr>\n",
       "      <th>order_date</th>\n",
       "      <th></th>\n",
       "      <th></th>\n",
       "    </tr>\n",
       "  </thead>\n",
       "  <tbody>\n",
       "    <tr>\n",
       "      <th>2014-01-01</th>\n",
       "      <td>1.0</td>\n",
       "      <td>1</td>\n",
       "    </tr>\n",
       "    <tr>\n",
       "      <th>2014-02-01</th>\n",
       "      <td>1.0</td>\n",
       "      <td>0</td>\n",
       "    </tr>\n",
       "    <tr>\n",
       "      <th>2014-03-01</th>\n",
       "      <td>1.0</td>\n",
       "      <td>0</td>\n",
       "    </tr>\n",
       "  </tbody>\n",
       "</table>\n",
       "</div>"
      ],
      "text/plain": [
       "            const  feriado\n",
       "order_date                \n",
       "2014-01-01    1.0        1\n",
       "2014-02-01    1.0        0\n",
       "2014-03-01    1.0        0"
      ]
     },
     "execution_count": 110,
     "metadata": {},
     "output_type": "execute_result"
    }
   ],
   "source": [
    "# View\n",
    "exog_var_treino.head(3)"
   ]
  },
  {
   "cell_type": "markdown",
   "metadata": {},
   "source": [
    "Embora sejam duas séries acima, para o processamento com o Statsmodels, a série de dados deve ficar como tipo série e a série da variável exógena deve ficar como dataframe, ou teremos erro no processamento. Vamos fazer o mesmo com os dados de teste."
   ]
  },
  {
   "cell_type": "code",
   "execution_count": 111,
   "metadata": {},
   "outputs": [],
   "source": [
    "# We put only sales as data series\n",
    "dados_teste = pd.Series(testset['feriado'])"
   ]
  },
  {
   "cell_type": "code",
   "execution_count": 112,
   "metadata": {},
   "outputs": [],
   "source": [
    "# And only holiday in the holiday series\n",
    "exog_var_teste = sm.add_constant(testset['feriado'])"
   ]
  },
  {
   "cell_type": "markdown",
   "metadata": {},
   "source": [
    "Fique atento ao código abaixo e verifique onde incluímos as variáveis exógenas."
   ]
  },
  {
   "cell_type": "markdown",
   "metadata": {},
   "source": [
    "### Função Para o Cálculo da Acurácia"
   ]
  },
  {
   "cell_type": "code",
   "execution_count": 113,
   "metadata": {},
   "outputs": [],
   "source": [
    "# Function\n",
    "def performance(y_true, y_pred): \n",
    "    mse = ((y_pred - y_true) ** 2).mean()\n",
    "    mape = np.mean(np.abs((y_true - y_pred) / y_true)) * 100\n",
    "    return( print('MSE das previsões é {}'.format(round(mse, 2))+\n",
    "                  '\\nRMSE das previsões é {}'.format(round(np.sqrt(mse), 2))+\n",
    "                  '\\nMAPE das previsões é {}'.format(round(mape, 2))))"
   ]
  },
  {
   "cell_type": "markdown",
   "metadata": {},
   "source": [
    "## Otimização do Modelo SARIMA com Variável Exógena"
   ]
  },
  {
   "cell_type": "markdown",
   "metadata": {},
   "source": [
    "### Grid Search Método 2 \n",
    "\n",
    "Neste método de Grid Search, nós testamos diversas combinações dos hiperparâmetros do modelo SARIMA. Tome cuidado para não exagerar nas combinações. Valores de 0 e 1 resolvem a grande maioria dos problemas."
   ]
  },
  {
   "cell_type": "code",
   "execution_count": 114,
   "metadata": {},
   "outputs": [],
   "source": [
    "# We will define p, d and q so that they have values between 0 and 2 and we will test the combinations.\n",
    "p = d = q = range(0, 2)"
   ]
  },
  {
   "cell_type": "markdown",
   "metadata": {},
   "source": [
    "Agora geramos diferentes combinações de p, d e q.\n"
   ]
  },
  {
   "cell_type": "code",
   "execution_count": 115,
   "metadata": {},
   "outputs": [
    {
     "data": {
      "text/plain": [
       "[(0, 0, 0),\n",
       " (0, 0, 1),\n",
       " (0, 1, 0),\n",
       " (0, 1, 1),\n",
       " (1, 0, 0),\n",
       " (1, 0, 1),\n",
       " (1, 1, 0),\n",
       " (1, 1, 1)]"
      ]
     },
     "execution_count": 115,
     "metadata": {},
     "output_type": "execute_result"
    }
   ],
   "source": [
    "# List of combinations of p, d, q\n",
    "pdq = list(itertools.product(p, d, q))\n",
    "pdq"
   ]
  },
  {
   "cell_type": "code",
   "execution_count": 116,
   "metadata": {},
   "outputs": [
    {
     "data": {
      "text/plain": [
       "[(0, 0, 0, 12),\n",
       " (0, 0, 1, 12),\n",
       " (0, 1, 0, 12),\n",
       " (0, 1, 1, 12),\n",
       " (1, 0, 0, 12),\n",
       " (1, 0, 1, 12),\n",
       " (1, 1, 0, 12),\n",
       " (1, 1, 1, 12)]"
      ]
     },
     "execution_count": 116,
     "metadata": {},
     "output_type": "execute_result"
    }
   ],
   "source": [
    "# List of combinations of seasonal hyperparameters P, D and Q\n",
    "# We are using List Comprehension\n",
    "seasonal_pdq = [(x[0], x[1], x[2], 12) for x in list(itertools.product(p, d, q))]\n",
    "seasonal_pdq"
   ]
  },
  {
   "cell_type": "code",
   "execution_count": 117,
   "metadata": {},
   "outputs": [
    {
     "name": "stdout",
     "output_type": "stream",
     "text": [
      "\n",
      "Exemplos de Combinações dos Hiperparâmetros Para o Modelo SARIMA:\n",
      "\n",
      "SARIMAX: (0, 0, 1) x (0, 0, 1, 12)\n",
      "SARIMAX: (0, 0, 1) x (0, 1, 0, 12)\n",
      "SARIMAX: (0, 1, 0) x (0, 1, 1, 12)\n",
      "SARIMAX: (0, 1, 0) x (1, 0, 0, 12)\n"
     ]
    }
   ],
   "source": [
    "print('\\nExemplos de Combinações dos Hiperparâmetros Para o Modelo SARIMA:\\n')\n",
    "print('SARIMAX: {} x {}'.format(pdq[1], seasonal_pdq[1]))\n",
    "print('SARIMAX: {} x {}'.format(pdq[1], seasonal_pdq[2]))\n",
    "print('SARIMAX: {} x {}'.format(pdq[2], seasonal_pdq[3]))\n",
    "print('SARIMAX: {} x {}'.format(pdq[2], seasonal_pdq[4]))"
   ]
  },
  {
   "cell_type": "code",
   "execution_count": 119,
   "metadata": {},
   "outputs": [
    {
     "name": "stdout",
     "output_type": "stream",
     "text": [
      "SARIMA(0, 0, 0)x(0, 0, 0, 12)12 - AIC:533.4308185633837\n",
      "SARIMA(0, 0, 0)x(0, 0, 1, 12)12 - AIC:345.2124475520536\n",
      "SARIMA(0, 0, 0)x(0, 1, 0, 12)12 - AIC:364.0768617188458\n",
      "SARIMA(0, 0, 0)x(0, 1, 1, 12)12 - AIC:180.79080452834023\n",
      "SARIMA(0, 0, 0)x(1, 0, 0, 12)12 - AIC:361.08833351685905\n",
      "SARIMA(0, 0, 0)x(1, 0, 1, 12)12 - AIC:346.9042045847437\n",
      "SARIMA(0, 0, 0)x(1, 1, 0, 12)12 - AIC:195.54049883217485\n",
      "SARIMA(0, 0, 0)x(1, 1, 1, 12)12 - AIC:182.08757729333834\n",
      "SARIMA(0, 0, 1)x(0, 0, 0, 12)12 - AIC:518.5675113694467\n",
      "SARIMA(0, 0, 1)x(0, 0, 1, 12)12 - AIC:329.66567709247414\n",
      "SARIMA(0, 0, 1)x(0, 1, 0, 12)12 - AIC:351.3652394984502\n",
      "SARIMA(0, 0, 1)x(0, 1, 1, 12)12 - AIC:163.18307983883474\n",
      "SARIMA(0, 0, 1)x(1, 0, 0, 12)12 - AIC:362.47471388964294\n",
      "SARIMA(0, 0, 1)x(1, 0, 1, 12)12 - AIC:332.40339575574194\n",
      "SARIMA(0, 0, 1)x(1, 1, 0, 12)12 - AIC:197.52806247439318\n",
      "SARIMA(0, 0, 1)x(1, 1, 1, 12)12 - AIC:163.48234075210078\n",
      "SARIMA(0, 1, 0)x(0, 0, 0, 12)12 - AIC:546.976725709374\n",
      "SARIMA(0, 1, 0)x(0, 0, 1, 12)12 - AIC:337.88376156449965\n",
      "SARIMA(0, 1, 0)x(0, 1, 0, 12)12 - AIC:363.7400159305232\n",
      "SARIMA(0, 1, 0)x(0, 1, 1, 12)12 - AIC:168.56204263950454\n",
      "SARIMA(0, 1, 0)x(1, 0, 0, 12)12 - AIC:359.4132617639356\n",
      "SARIMA(0, 1, 0)x(1, 0, 1, 12)12 - AIC:339.923560175055\n",
      "SARIMA(0, 1, 0)x(1, 1, 0, 12)12 - AIC:186.52900012917277\n",
      "SARIMA(0, 1, 0)x(1, 1, 1, 12)12 - AIC:170.55763962827933\n",
      "SARIMA(0, 1, 1)x(0, 0, 0, 12)12 - AIC:501.06390725556673\n",
      "SARIMA(0, 1, 1)x(0, 0, 1, 12)12 - AIC:318.8554250160459\n",
      "SARIMA(0, 1, 1)x(0, 1, 0, 12)12 - AIC:330.3302047357813\n",
      "SARIMA(0, 1, 1)x(0, 1, 1, 12)12 - AIC:149.6590642758791\n",
      "SARIMA(0, 1, 1)x(1, 0, 0, 12)12 - AIC:353.17833090322074\n",
      "SARIMA(0, 1, 1)x(1, 0, 1, 12)12 - AIC:324.5846425497368\n",
      "SARIMA(0, 1, 1)x(1, 1, 0, 12)12 - AIC:181.60465410317144\n",
      "SARIMA(0, 1, 1)x(1, 1, 1, 12)12 - AIC:150.66492932679003\n",
      "SARIMA(1, 0, 0)x(0, 0, 0, 12)12 - AIC:535.1150858028908\n",
      "SARIMA(1, 0, 0)x(0, 0, 1, 12)12 - AIC:347.34763308467706\n",
      "SARIMA(1, 0, 0)x(0, 1, 0, 12)12 - AIC:366.0656010365497\n",
      "SARIMA(1, 0, 0)x(0, 1, 1, 12)12 - AIC:182.59457860739676\n",
      "SARIMA(1, 0, 0)x(1, 0, 0, 12)12 - AIC:348.73688413875493\n",
      "SARIMA(1, 0, 0)x(1, 0, 1, 12)12 - AIC:348.6084166465875\n",
      "SARIMA(1, 0, 0)x(1, 1, 0, 12)12 - AIC:182.4691676969565\n",
      "SARIMA(1, 0, 0)x(1, 1, 1, 12)12 - AIC:184.09744150290825\n",
      "SARIMA(1, 0, 1)x(0, 0, 0, 12)12 - AIC:514.6120860026851\n",
      "SARIMA(1, 0, 1)x(0, 0, 1, 12)12 - AIC:330.067986864226\n",
      "SARIMA(1, 0, 1)x(0, 1, 0, 12)12 - AIC:352.38189163190697\n",
      "SARIMA(1, 0, 1)x(0, 1, 1, 12)12 - AIC:165.15392404266288\n",
      "SARIMA(1, 0, 1)x(1, 0, 0, 12)12 - AIC:344.03364786849323\n",
      "SARIMA(1, 0, 1)x(1, 0, 1, 12)12 - AIC:330.88505428927823\n",
      "SARIMA(1, 0, 1)x(1, 1, 0, 12)12 - AIC:184.0505361995594\n",
      "SARIMA(1, 0, 1)x(1, 1, 1, 12)12 - AIC:165.41248022992386\n",
      "SARIMA(1, 1, 0)x(0, 0, 0, 12)12 - AIC:539.9173420531466\n",
      "SARIMA(1, 1, 0)x(0, 0, 1, 12)12 - AIC:338.5777899846436\n",
      "SARIMA(1, 1, 0)x(0, 1, 0, 12)12 - AIC:363.4417845745284\n",
      "SARIMA(1, 1, 0)x(0, 1, 1, 12)12 - AIC:170.04149982694634\n",
      "SARIMA(1, 1, 0)x(1, 0, 0, 12)12 - AIC:339.3264142705338\n",
      "SARIMA(1, 1, 0)x(1, 0, 1, 12)12 - AIC:340.68273229179414\n",
      "SARIMA(1, 1, 0)x(1, 1, 0, 12)12 - AIC:170.33457024896614\n",
      "SARIMA(1, 1, 0)x(1, 1, 1, 12)12 - AIC:172.0382148512743\n",
      "SARIMA(1, 1, 1)x(0, 0, 0, 12)12 - AIC:502.42327079134986\n",
      "SARIMA(1, 1, 1)x(0, 0, 1, 12)12 - AIC:320.8397307085624\n",
      "SARIMA(1, 1, 1)x(0, 1, 0, 12)12 - AIC:332.3301914349487\n",
      "SARIMA(1, 1, 1)x(0, 1, 1, 12)12 - AIC:151.65366482642958\n",
      "SARIMA(1, 1, 1)x(1, 0, 0, 12)12 - AIC:334.6647234616538\n",
      "SARIMA(1, 1, 1)x(1, 0, 1, 12)12 - AIC:322.52431679701283\n",
      "SARIMA(1, 1, 1)x(1, 1, 0, 12)12 - AIC:167.51614209511627\n",
      "SARIMA(1, 1, 1)x(1, 1, 1, 12)12 - AIC:152.55732457057383\n",
      "\n",
      "Modelo com Menor Valor de AIC: SARIMA(0, 1, 1)x(0, 1, 1, 12)12 - AIC:149.6590642758791\n"
     ]
    }
   ],
   "source": [
    "# Grid Search\n",
    "warnings.filterwarnings(\"ignore\")\n",
    "\n",
    "# Lowest possible value for the AIC Statistics (our goal in optimizing the model)\n",
    "lowest_aic = sys.maxsize\n",
    "lowest = ''\n",
    "\n",
    "# Loop\n",
    "for param in pdq:\n",
    "    for param_seasonal in seasonal_pdq:\n",
    "        try:\n",
    "            \n",
    "            # Creates the model whith the combination to hyperparamentes\n",
    "            mod = sm.tsa.statespace.SARIMAX(dados_treino,\n",
    "                                            exog_var_treino,\n",
    "                                            order = param,\n",
    "                                            seasonal_order = param_seasonal,\n",
    "                                            enforce_stationarity = False,\n",
    "                                            enforce_invertibility = False)\n",
    "            \n",
    "            # Training the model\n",
    "            results = mod.fit()\n",
    "            \n",
    "            # Print\n",
    "            print('SARIMA{}x{}12 - AIC:{}'.format(param, param_seasonal, results.aic))\n",
    "            \n",
    "            # Collect the lowest AIC value\n",
    "            if lowest_aic >  results.aic:\n",
    "                lowest = 'SARIMA{}x{}12 - AIC:{}'.format(param, param_seasonal, results.aic)\n",
    "                lowest_aic = results.aic\n",
    "        except:\n",
    "            continue\n",
    "\n",
    "print (\"\\nModelo com Menor Valor de AIC: \" + lowest)"
   ]
  },
  {
   "cell_type": "code",
   "execution_count": 120,
   "metadata": {},
   "outputs": [],
   "source": [
    "# Training the model with best combination of the hyperparamenters \n",
    "modelo_sarima_v2 = sm.tsa.statespace.SARIMAX(dados_treino,\n",
    "                                             exog_var_treino,\n",
    "                                             order = (0, 1, 1),\n",
    "                                             seasonal_order = (0, 1, 1, 12),\n",
    "                                             enforce_stationarity = False,\n",
    "                                             enforce_invertibility=False)"
   ]
  },
  {
   "cell_type": "code",
   "execution_count": 121,
   "metadata": {},
   "outputs": [],
   "source": [
    "# Training (Fit) of the model\n",
    "modelo_sarima_v2_fit = modelo_sarima_v2.fit()"
   ]
  },
  {
   "cell_type": "code",
   "execution_count": 122,
   "metadata": {},
   "outputs": [
    {
     "name": "stdout",
     "output_type": "stream",
     "text": [
      "                                     SARIMAX Results                                      \n",
      "==========================================================================================\n",
      "Dep. Variable:                              sales   No. Observations:                   36\n",
      "Model:             SARIMAX(0, 1, 1)x(0, 1, 1, 12)   Log Likelihood                 -69.830\n",
      "Date:                            Tue, 05 Jan 2021   AIC                            149.659\n",
      "Time:                                    18:38:07   BIC                            150.645\n",
      "Sample:                                01-01-2014   HQIC                           147.531\n",
      "                                     - 12-01-2016                                         \n",
      "Covariance Type:                              opg                                         \n",
      "==============================================================================\n",
      "                 coef    std err          z      P>|z|      [0.025      0.975]\n",
      "------------------------------------------------------------------------------\n",
      "const         -2.6155   1.98e+04     -0.000      1.000   -3.87e+04    3.87e+04\n",
      "feriado     1287.5176   6051.892      0.213      0.832   -1.06e+04    1.31e+04\n",
      "ma.L1         -1.0017     20.851     -0.048      0.962     -41.869      39.866\n",
      "ma.S.L12      -1.0530     20.359     -0.052      0.959     -40.956      38.850\n",
      "sigma2      2.073e+05      8.746   2.37e+04      0.000    2.07e+05    2.07e+05\n",
      "===================================================================================\n",
      "Ljung-Box (L1) (Q):                   0.00   Jarque-Bera (JB):                 0.56\n",
      "Prob(Q):                              1.00   Prob(JB):                         0.76\n",
      "Heteroskedasticity (H):               2.69   Skew:                             0.52\n",
      "Prob(H) (two-sided):                  0.44   Kurtosis:                         2.37\n",
      "===================================================================================\n",
      "\n",
      "Warnings:\n",
      "[1] Covariance matrix calculated using the outer product of gradients (complex-step).\n",
      "[2] Covariance matrix is singular or near-singular, with condition number 1.99e+22. Standard errors may be unstable.\n"
     ]
    }
   ],
   "source": [
    "# Template summary\n",
    "print(modelo_sarima_v2_fit.summary())"
   ]
  },
  {
   "cell_type": "markdown",
   "metadata": {},
   "source": [
    "Perceba que tivemos um leve aumento de 3 pontos na estatística AIC. Não otimizamos o modelo, mas considerando que temos mais um elemento a mais para a previsão, a variável exógena, isso não parece ruim. Mas continue comigo."
   ]
  },
  {
   "cell_type": "code",
   "execution_count": 125,
   "metadata": {},
   "outputs": [],
   "source": [
    "# Let's do a step forward \n",
    "sarima_predict_2 = modelo_sarima_v2_fit.get_prediction(start = pd.to_datetime('2017-01-01'), \n",
    "                                                       end = pd.to_datetime('2017-12-01'),\n",
    "                                                       exog = exog_var_teste,\n",
    "                                                       dynamic = False)"
   ]
  },
  {
   "cell_type": "code",
   "execution_count": 126,
   "metadata": {},
   "outputs": [
    {
     "data": {
      "text/html": [
       "<div>\n",
       "<style scoped>\n",
       "    .dataframe tbody tr th:only-of-type {\n",
       "        vertical-align: middle;\n",
       "    }\n",
       "\n",
       "    .dataframe tbody tr th {\n",
       "        vertical-align: top;\n",
       "    }\n",
       "\n",
       "    .dataframe thead th {\n",
       "        text-align: right;\n",
       "    }\n",
       "</style>\n",
       "<table border=\"1\" class=\"dataframe\">\n",
       "  <thead>\n",
       "    <tr style=\"text-align: right;\">\n",
       "      <th></th>\n",
       "      <th>lower sales</th>\n",
       "      <th>upper sales</th>\n",
       "    </tr>\n",
       "  </thead>\n",
       "  <tbody>\n",
       "    <tr>\n",
       "      <th>2017-01-01</th>\n",
       "      <td>-209.449145</td>\n",
       "      <td>2066.538293</td>\n",
       "    </tr>\n",
       "    <tr>\n",
       "      <th>2017-02-01</th>\n",
       "      <td>-236.084551</td>\n",
       "      <td>2004.449147</td>\n",
       "    </tr>\n",
       "    <tr>\n",
       "      <th>2017-03-01</th>\n",
       "      <td>368.252702</td>\n",
       "      <td>2604.676167</td>\n",
       "    </tr>\n",
       "    <tr>\n",
       "      <th>2017-04-01</th>\n",
       "      <td>-84.480790</td>\n",
       "      <td>2151.819311</td>\n",
       "    </tr>\n",
       "    <tr>\n",
       "      <th>2017-05-01</th>\n",
       "      <td>144.685209</td>\n",
       "      <td>2380.984568</td>\n",
       "    </tr>\n",
       "    <tr>\n",
       "      <th>2017-06-01</th>\n",
       "      <td>-92.227998</td>\n",
       "      <td>2144.074218</td>\n",
       "    </tr>\n",
       "    <tr>\n",
       "      <th>2017-07-01</th>\n",
       "      <td>-148.866454</td>\n",
       "      <td>2087.438725</td>\n",
       "    </tr>\n",
       "    <tr>\n",
       "      <th>2017-08-01</th>\n",
       "      <td>-69.100404</td>\n",
       "      <td>2167.207743</td>\n",
       "    </tr>\n",
       "    <tr>\n",
       "      <th>2017-09-01</th>\n",
       "      <td>106.759998</td>\n",
       "      <td>2343.071188</td>\n",
       "    </tr>\n",
       "    <tr>\n",
       "      <th>2017-10-01</th>\n",
       "      <td>215.489265</td>\n",
       "      <td>2451.806085</td>\n",
       "    </tr>\n",
       "    <tr>\n",
       "      <th>2017-11-01</th>\n",
       "      <td>272.507592</td>\n",
       "      <td>2508.917171</td>\n",
       "    </tr>\n",
       "    <tr>\n",
       "      <th>2017-12-01</th>\n",
       "      <td>356.338282</td>\n",
       "      <td>2594.526119</td>\n",
       "    </tr>\n",
       "  </tbody>\n",
       "</table>\n",
       "</div>"
      ],
      "text/plain": [
       "            lower sales  upper sales\n",
       "2017-01-01  -209.449145  2066.538293\n",
       "2017-02-01  -236.084551  2004.449147\n",
       "2017-03-01   368.252702  2604.676167\n",
       "2017-04-01   -84.480790  2151.819311\n",
       "2017-05-01   144.685209  2380.984568\n",
       "2017-06-01   -92.227998  2144.074218\n",
       "2017-07-01  -148.866454  2087.438725\n",
       "2017-08-01   -69.100404  2167.207743\n",
       "2017-09-01   106.759998  2343.071188\n",
       "2017-10-01   215.489265  2451.806085\n",
       "2017-11-01   272.507592  2508.917171\n",
       "2017-12-01   356.338282  2594.526119"
      ]
     },
     "execution_count": 126,
     "metadata": {},
     "output_type": "execute_result"
    }
   ],
   "source": [
    "# Confidence interval\n",
    "sarima_predict_conf_2 = sarima_predict_2.conf_int()\n",
    "sarima_predict_conf_2"
   ]
  },
  {
   "cell_type": "code",
   "execution_count": 127,
   "metadata": {},
   "outputs": [
    {
     "data": {
      "image/png": "[encoded data removed]",
      "text/plain": [
       "<Figure size 1440x576 with 1 Axes>"
      ]
     },
     "metadata": {
      "needs_background": "light"
     },
     "output_type": "display_data"
    }
   ],
   "source": [
    "rcParams['figure.figsize'] = 20,8\n",
    "\n",
    "\n",
    "# Plot of observed values \n",
    "ax = media_vendas_tecnologia.plot(label = 'Valores Observados', color = '#2574BF')\n",
    "\n",
    "# Plot of predicted values\n",
    "sarima_predict_2.predicted_mean.plot(ax = ax, \n",
    "                                     label = 'Previsões SARIMA (0, 0, 0)x(0, 1, 1, 12)', \n",
    "                                     alpha = 0.7, \n",
    "                                     color = 'red') \n",
    "\n",
    "# Plot of Confidence interval \n",
    "ax.fill_between(sarima_predict_conf_2.index,\n",
    "                # lower sales\n",
    "                sarima_predict_conf_2.iloc[:, 0],\n",
    "                # upper sales\n",
    "                sarima_predict_conf_2.iloc[:, 1], color = 'k', alpha = 0.1)\n",
    "\n",
    "# Title and Legend\n",
    "plt.title('Previsão de Vendas com Modelo ARIMA Sazonal')\n",
    "plt.xlabel('Data')\n",
    "plt.ylabel('Vendas de Produtos de Tecnologia')\n",
    "plt.legend()\n",
    "plt.show()"
   ]
  },
  {
   "cell_type": "markdown",
   "metadata": {},
   "source": [
    "O modelo parece ter perdido um pouco do padrão da série."
   ]
  },
  {
   "cell_type": "code",
   "execution_count": 129,
   "metadata": {},
   "outputs": [
    {
     "name": "stdout",
     "output_type": "stream",
     "text": [
      "MSE das previsões é 1416456.73\n",
      "RMSE das previsões é 1190.15\n",
      "MAPE das previsões é inf\n"
     ]
    }
   ],
   "source": [
    "# Calculating performance \n",
    "sarima_results = performance(dados_teste, sarima_predict_2.predicted_mean)\n",
    "sarima_results"
   ]
  },
  {
   "cell_type": "markdown",
   "metadata": {},
   "source": [
    "\n",
    "Você percebeu que usamos a variável exógena no treino do modelo e na previsão do modelo. Percebeu, certo? Não? Então retorne às células anteriores e perceba!\n",
    "\n",
    "Precisamos agora preparar a variável exógena para o forecast. Todas as variáveis usadas no treinamento do modelo tem que ser usadas em teste e agora no forecast. Assim como em qualquer modelo de Machine Learning."
   ]
  },
  {
   "cell_type": "code",
   "execution_count": 132,
   "metadata": {},
   "outputs": [],
   "source": [
    "# We will pick all US holiday between 2014 to 2017\n",
    "\n",
    "# Create the serie\n",
    "feriados_forecast = pd.Series()\n",
    "\n",
    "# Fetch the holiday\n",
    "for i, feriado in holidays.US(years = [2017,2018,2019,2020,2021]).items():\n",
    "    feriados_forecast[i] = feriado"
   ]
  },
  {
   "cell_type": "code",
   "execution_count": 134,
   "metadata": {},
   "outputs": [
    {
     "data": {
      "text/plain": [
       "57"
      ]
     },
     "execution_count": 134,
     "metadata": {},
     "output_type": "execute_result"
    }
   ],
   "source": [
    "len(feriados_forecast)"
   ]
  },
  {
   "cell_type": "code",
   "execution_count": 137,
   "metadata": {},
   "outputs": [
    {
     "data": {
      "text/plain": [
       "2021-10-11                Columbus Day\n",
       "2021-11-11                Veterans Day\n",
       "2021-11-25                Thanksgiving\n",
       "2021-12-25               Christmas Day\n",
       "2021-12-24    Christmas Day (Observed)\n",
       "dtype: object"
      ]
     },
     "execution_count": 137,
     "metadata": {},
     "output_type": "execute_result"
    }
   ],
   "source": [
    "# View the last lines\n",
    "feriados_forecast.tail()"
   ]
  },
  {
   "cell_type": "code",
   "execution_count": 139,
   "metadata": {},
   "outputs": [
    {
     "data": {
      "text/html": [
       "<div>\n",
       "<style scoped>\n",
       "    .dataframe tbody tr th:only-of-type {\n",
       "        vertical-align: middle;\n",
       "    }\n",
       "\n",
       "    .dataframe tbody tr th {\n",
       "        vertical-align: top;\n",
       "    }\n",
       "\n",
       "    .dataframe thead th {\n",
       "        text-align: right;\n",
       "    }\n",
       "</style>\n",
       "<table border=\"1\" class=\"dataframe\">\n",
       "  <thead>\n",
       "    <tr style=\"text-align: right;\">\n",
       "      <th></th>\n",
       "      <th>const</th>\n",
       "      <th>feriado</th>\n",
       "    </tr>\n",
       "    <tr>\n",
       "      <th>data_feriado</th>\n",
       "      <th></th>\n",
       "      <th></th>\n",
       "    </tr>\n",
       "  </thead>\n",
       "  <tbody>\n",
       "    <tr>\n",
       "      <th>2017-01-01</th>\n",
       "      <td>1.0</td>\n",
       "      <td>1</td>\n",
       "    </tr>\n",
       "    <tr>\n",
       "      <th>2017-01-02</th>\n",
       "      <td>1.0</td>\n",
       "      <td>1</td>\n",
       "    </tr>\n",
       "    <tr>\n",
       "      <th>2017-01-16</th>\n",
       "      <td>1.0</td>\n",
       "      <td>1</td>\n",
       "    </tr>\n",
       "  </tbody>\n",
       "</table>\n",
       "</div>"
      ],
      "text/plain": [
       "              const  feriado\n",
       "data_feriado                \n",
       "2017-01-01      1.0        1\n",
       "2017-01-02      1.0        1\n",
       "2017-01-16      1.0        1"
      ]
     },
     "execution_count": 139,
     "metadata": {},
     "output_type": "execute_result"
    }
   ],
   "source": [
    "# Let's convert the series to a dayaframe and make some adjustments\n",
    "feriados_forecast_df = pd.DataFrame(feriados_forecast)\n",
    "\n",
    "# Index reset to adjust columns names\n",
    "feriados_forecast_df.reset_index(level = 0, inplace = True)\n",
    "\n",
    "# Ajusts the column names\n",
    "feriados_forecast_df.columns = ['data_feriado','feriado']\n",
    "\n",
    "# Let's convert the date column to the correct type\n",
    "feriados_forecast_df['data_feriado'] = pd.to_datetime(feriados_forecast_df['data_feriado'])\n",
    "\n",
    "# Let's set the date as an index\n",
    "feriados_forecast_df.set_index(\"data_feriado\", inplace = True)\n",
    "\n",
    "# We don't know which day will be sold (that's what we want to predict), so let's put zero in:\n",
    "feriados_forecast_df['feriado'] = 0\n",
    "\n",
    "# Converting the holiday column to integer\n",
    "feriados_forecast_df['feriado'] = pd.to_numeric(feriados_forecast_df['feriado'], downcast = 'integer')\n",
    "\n",
    "# And only the holiday (plus a constant required by statsmodels) in the holiday series\n",
    "exog_var_forecast = sm.add_constant(feriados_forecast_df['feriado'])\n",
    "exog_var_forecast['feriado'] = 1\n",
    "\n",
    "# View dataset\n",
    "exog_var_forecast.head(3)"
   ]
  },
  {
   "cell_type": "code",
   "execution_count": 140,
   "metadata": {},
   "outputs": [],
   "source": [
    "# Forecast of 60 steps over time (in practice we will reduce it to 57 because we only have 57 holidays)\n",
    "horizonte_60_predict_2 = modelo_sarima_v2_fit.get_forecast(steps = 57, exog = exog_var_forecast, dynamic = True)"
   ]
  },
  {
   "cell_type": "code",
   "execution_count": 141,
   "metadata": {},
   "outputs": [
    {
     "data": {
      "text/html": [
       "<div>\n",
       "<style scoped>\n",
       "    .dataframe tbody tr th:only-of-type {\n",
       "        vertical-align: middle;\n",
       "    }\n",
       "\n",
       "    .dataframe tbody tr th {\n",
       "        vertical-align: top;\n",
       "    }\n",
       "\n",
       "    .dataframe thead th {\n",
       "        text-align: right;\n",
       "    }\n",
       "</style>\n",
       "<table border=\"1\" class=\"dataframe\">\n",
       "  <thead>\n",
       "    <tr style=\"text-align: right;\">\n",
       "      <th></th>\n",
       "      <th>lower sales</th>\n",
       "      <th>upper sales</th>\n",
       "    </tr>\n",
       "  </thead>\n",
       "  <tbody>\n",
       "    <tr>\n",
       "      <th>2017-01-01</th>\n",
       "      <td>-209.449145</td>\n",
       "      <td>2066.538293</td>\n",
       "    </tr>\n",
       "    <tr>\n",
       "      <th>2017-02-01</th>\n",
       "      <td>1051.433010</td>\n",
       "      <td>3291.966708</td>\n",
       "    </tr>\n",
       "    <tr>\n",
       "      <th>2017-03-01</th>\n",
       "      <td>1655.770264</td>\n",
       "      <td>3892.193729</td>\n",
       "    </tr>\n",
       "    <tr>\n",
       "      <th>2017-04-01</th>\n",
       "      <td>1203.036771</td>\n",
       "      <td>3439.336872</td>\n",
       "    </tr>\n",
       "    <tr>\n",
       "      <th>2017-05-01</th>\n",
       "      <td>1432.202770</td>\n",
       "      <td>3668.502129</td>\n",
       "    </tr>\n",
       "    <tr>\n",
       "      <th>2017-06-01</th>\n",
       "      <td>1195.289563</td>\n",
       "      <td>3431.591779</td>\n",
       "    </tr>\n",
       "    <tr>\n",
       "      <th>2017-07-01</th>\n",
       "      <td>1138.651107</td>\n",
       "      <td>3374.956286</td>\n",
       "    </tr>\n",
       "    <tr>\n",
       "      <th>2017-08-01</th>\n",
       "      <td>1218.417157</td>\n",
       "      <td>3454.725304</td>\n",
       "    </tr>\n",
       "    <tr>\n",
       "      <th>2017-09-01</th>\n",
       "      <td>1394.277559</td>\n",
       "      <td>3630.588749</td>\n",
       "    </tr>\n",
       "    <tr>\n",
       "      <th>2017-10-01</th>\n",
       "      <td>1503.006827</td>\n",
       "      <td>3739.323646</td>\n",
       "    </tr>\n",
       "    <tr>\n",
       "      <th>2017-11-01</th>\n",
       "      <td>1560.025153</td>\n",
       "      <td>3796.434732</td>\n",
       "    </tr>\n",
       "    <tr>\n",
       "      <th>2017-12-01</th>\n",
       "      <td>1643.855843</td>\n",
       "      <td>3882.043680</td>\n",
       "    </tr>\n",
       "    <tr>\n",
       "      <th>2018-01-01</th>\n",
       "      <td>-136.462758</td>\n",
       "      <td>2273.034187</td>\n",
       "    </tr>\n",
       "    <tr>\n",
       "      <th>2018-02-01</th>\n",
       "      <td>1110.674788</td>\n",
       "      <td>3512.207211</td>\n",
       "    </tr>\n",
       "    <tr>\n",
       "      <th>2018-03-01</th>\n",
       "      <td>1715.881647</td>\n",
       "      <td>4111.564626</td>\n",
       "    </tr>\n",
       "    <tr>\n",
       "      <th>2018-04-01</th>\n",
       "      <td>1263.172918</td>\n",
       "      <td>3658.683006</td>\n",
       "    </tr>\n",
       "    <tr>\n",
       "      <th>2018-05-01</th>\n",
       "      <td>1492.339058</td>\n",
       "      <td>3887.848123</td>\n",
       "    </tr>\n",
       "    <tr>\n",
       "      <th>2018-06-01</th>\n",
       "      <td>1255.425270</td>\n",
       "      <td>3650.938354</td>\n",
       "    </tr>\n",
       "    <tr>\n",
       "      <th>2018-07-01</th>\n",
       "      <td>1198.786211</td>\n",
       "      <td>3594.303462</td>\n",
       "    </tr>\n",
       "    <tr>\n",
       "      <th>2018-08-01</th>\n",
       "      <td>1278.551659</td>\n",
       "      <td>3674.073084</td>\n",
       "    </tr>\n",
       "    <tr>\n",
       "      <th>2018-09-01</th>\n",
       "      <td>1454.411442</td>\n",
       "      <td>3849.937147</td>\n",
       "    </tr>\n",
       "    <tr>\n",
       "      <th>2018-10-01</th>\n",
       "      <td>1563.139573</td>\n",
       "      <td>3958.673182</td>\n",
       "    </tr>\n",
       "    <tr>\n",
       "      <th>2018-11-01</th>\n",
       "      <td>1620.139031</td>\n",
       "      <td>4015.803135</td>\n",
       "    </tr>\n",
       "    <tr>\n",
       "      <th>2018-12-01</th>\n",
       "      <td>1703.303785</td>\n",
       "      <td>4102.078019</td>\n",
       "    </tr>\n",
       "    <tr>\n",
       "      <th>2019-01-01</th>\n",
       "      <td>-88.404838</td>\n",
       "      <td>2504.458548</td>\n",
       "    </tr>\n",
       "    <tr>\n",
       "      <th>2019-02-01</th>\n",
       "      <td>1146.725064</td>\n",
       "      <td>3755.639216</td>\n",
       "    </tr>\n",
       "    <tr>\n",
       "      <th>2019-03-01</th>\n",
       "      <td>1752.626820</td>\n",
       "      <td>4354.301735</td>\n",
       "    </tr>\n",
       "    <tr>\n",
       "      <th>2019-04-01</th>\n",
       "      <td>1299.937820</td>\n",
       "      <td>3901.400386</td>\n",
       "    </tr>\n",
       "    <tr>\n",
       "      <th>2019-05-01</th>\n",
       "      <td>1529.104066</td>\n",
       "      <td>4130.565396</td>\n",
       "    </tr>\n",
       "    <tr>\n",
       "      <th>2019-06-01</th>\n",
       "      <td>1292.189810</td>\n",
       "      <td>3893.656095</td>\n",
       "    </tr>\n",
       "    <tr>\n",
       "      <th>2019-07-01</th>\n",
       "      <td>1235.550266</td>\n",
       "      <td>3837.021689</td>\n",
       "    </tr>\n",
       "    <tr>\n",
       "      <th>2019-08-01</th>\n",
       "      <td>1315.315227</td>\n",
       "      <td>3916.791796</td>\n",
       "    </tr>\n",
       "    <tr>\n",
       "      <th>2019-09-01</th>\n",
       "      <td>1491.174512</td>\n",
       "      <td>4092.656358</td>\n",
       "    </tr>\n",
       "    <tr>\n",
       "      <th>2019-10-01</th>\n",
       "      <td>1599.901732</td>\n",
       "      <td>4201.393304</td>\n",
       "    </tr>\n",
       "    <tr>\n",
       "      <th>2019-11-01</th>\n",
       "      <td>1656.886138</td>\n",
       "      <td>4258.538309</td>\n",
       "    </tr>\n",
       "    <tr>\n",
       "      <th>2019-12-01</th>\n",
       "      <td>1739.506513</td>\n",
       "      <td>4345.357572</td>\n",
       "    </tr>\n",
       "    <tr>\n",
       "      <th>2020-01-01</th>\n",
       "      <td>-60.414741</td>\n",
       "      <td>2755.950733</td>\n",
       "    </tr>\n",
       "    <tr>\n",
       "      <th>2020-02-01</th>\n",
       "      <td>1164.632890</td>\n",
       "      <td>4017.213672</td>\n",
       "    </tr>\n",
       "    <tr>\n",
       "      <th>2020-03-01</th>\n",
       "      <td>1771.073495</td>\n",
       "      <td>4615.337341</td>\n",
       "    </tr>\n",
       "    <tr>\n",
       "      <th>2020-04-01</th>\n",
       "      <td>1318.399741</td>\n",
       "      <td>4162.420745</td>\n",
       "    </tr>\n",
       "    <tr>\n",
       "      <th>2020-05-01</th>\n",
       "      <td>1547.566065</td>\n",
       "      <td>4391.585678</td>\n",
       "    </tr>\n",
       "    <tr>\n",
       "      <th>2020-06-01</th>\n",
       "      <td>1310.651441</td>\n",
       "      <td>4154.676745</td>\n",
       "    </tr>\n",
       "    <tr>\n",
       "      <th>2020-07-01</th>\n",
       "      <td>1254.011518</td>\n",
       "      <td>4098.042719</td>\n",
       "    </tr>\n",
       "    <tr>\n",
       "      <th>2020-08-01</th>\n",
       "      <td>1333.776098</td>\n",
       "      <td>4177.813207</td>\n",
       "    </tr>\n",
       "    <tr>\n",
       "      <th>2020-09-01</th>\n",
       "      <td>1509.634992</td>\n",
       "      <td>4353.678159</td>\n",
       "    </tr>\n",
       "    <tr>\n",
       "      <th>2020-10-01</th>\n",
       "      <td>1618.361502</td>\n",
       "      <td>4462.415815</td>\n",
       "    </tr>\n",
       "    <tr>\n",
       "      <th>2020-11-01</th>\n",
       "      <td>1675.334259</td>\n",
       "      <td>4519.572470</td>\n",
       "    </tr>\n",
       "    <tr>\n",
       "      <th>2020-12-01</th>\n",
       "      <td>1757.523123</td>\n",
       "      <td>4606.823243</td>\n",
       "    </tr>\n",
       "    <tr>\n",
       "      <th>2021-01-01</th>\n",
       "      <td>-48.117608</td>\n",
       "      <td>3023.135881</td>\n",
       "    </tr>\n",
       "    <tr>\n",
       "      <th>2021-02-01</th>\n",
       "      <td>1168.637629</td>\n",
       "      <td>4292.691214</td>\n",
       "    </tr>\n",
       "    <tr>\n",
       "      <th>2021-03-01</th>\n",
       "      <td>1775.491024</td>\n",
       "      <td>4890.402093</td>\n",
       "    </tr>\n",
       "    <tr>\n",
       "      <th>2021-04-01</th>\n",
       "      <td>1322.828907</td>\n",
       "      <td>4437.473860</td>\n",
       "    </tr>\n",
       "    <tr>\n",
       "      <th>2021-05-01</th>\n",
       "      <td>1551.995285</td>\n",
       "      <td>4666.638740</td>\n",
       "    </tr>\n",
       "    <tr>\n",
       "      <th>2021-06-01</th>\n",
       "      <td>1315.080376</td>\n",
       "      <td>4429.730092</td>\n",
       "    </tr>\n",
       "    <tr>\n",
       "      <th>2021-07-01</th>\n",
       "      <td>1258.440157</td>\n",
       "      <td>4373.096361</td>\n",
       "    </tr>\n",
       "    <tr>\n",
       "      <th>2021-08-01</th>\n",
       "      <td>1338.204441</td>\n",
       "      <td>4452.867145</td>\n",
       "    </tr>\n",
       "    <tr>\n",
       "      <th>2021-09-01</th>\n",
       "      <td>1514.063033</td>\n",
       "      <td>4628.732400</td>\n",
       "    </tr>\n",
       "  </tbody>\n",
       "</table>\n",
       "</div>"
      ],
      "text/plain": [
       "            lower sales  upper sales\n",
       "2017-01-01  -209.449145  2066.538293\n",
       "2017-02-01  1051.433010  3291.966708\n",
       "2017-03-01  1655.770264  3892.193729\n",
       "2017-04-01  1203.036771  3439.336872\n",
       "2017-05-01  1432.202770  3668.502129\n",
       "2017-06-01  1195.289563  3431.591779\n",
       "2017-07-01  1138.651107  3374.956286\n",
       "2017-08-01  1218.417157  3454.725304\n",
       "2017-09-01  1394.277559  3630.588749\n",
       "2017-10-01  1503.006827  3739.323646\n",
       "2017-11-01  1560.025153  3796.434732\n",
       "2017-12-01  1643.855843  3882.043680\n",
       "2018-01-01  -136.462758  2273.034187\n",
       "2018-02-01  1110.674788  3512.207211\n",
       "2018-03-01  1715.881647  4111.564626\n",
       "2018-04-01  1263.172918  3658.683006\n",
       "2018-05-01  1492.339058  3887.848123\n",
       "2018-06-01  1255.425270  3650.938354\n",
       "2018-07-01  1198.786211  3594.303462\n",
       "2018-08-01  1278.551659  3674.073084\n",
       "2018-09-01  1454.411442  3849.937147\n",
       "2018-10-01  1563.139573  3958.673182\n",
       "2018-11-01  1620.139031  4015.803135\n",
       "2018-12-01  1703.303785  4102.078019\n",
       "2019-01-01   -88.404838  2504.458548\n",
       "2019-02-01  1146.725064  3755.639216\n",
       "2019-03-01  1752.626820  4354.301735\n",
       "2019-04-01  1299.937820  3901.400386\n",
       "2019-05-01  1529.104066  4130.565396\n",
       "2019-06-01  1292.189810  3893.656095\n",
       "2019-07-01  1235.550266  3837.021689\n",
       "2019-08-01  1315.315227  3916.791796\n",
       "2019-09-01  1491.174512  4092.656358\n",
       "2019-10-01  1599.901732  4201.393304\n",
       "2019-11-01  1656.886138  4258.538309\n",
       "2019-12-01  1739.506513  4345.357572\n",
       "2020-01-01   -60.414741  2755.950733\n",
       "2020-02-01  1164.632890  4017.213672\n",
       "2020-03-01  1771.073495  4615.337341\n",
       "2020-04-01  1318.399741  4162.420745\n",
       "2020-05-01  1547.566065  4391.585678\n",
       "2020-06-01  1310.651441  4154.676745\n",
       "2020-07-01  1254.011518  4098.042719\n",
       "2020-08-01  1333.776098  4177.813207\n",
       "2020-09-01  1509.634992  4353.678159\n",
       "2020-10-01  1618.361502  4462.415815\n",
       "2020-11-01  1675.334259  4519.572470\n",
       "2020-12-01  1757.523123  4606.823243\n",
       "2021-01-01   -48.117608  3023.135881\n",
       "2021-02-01  1168.637629  4292.691214\n",
       "2021-03-01  1775.491024  4890.402093\n",
       "2021-04-01  1322.828907  4437.473860\n",
       "2021-05-01  1551.995285  4666.638740\n",
       "2021-06-01  1315.080376  4429.730092\n",
       "2021-07-01  1258.440157  4373.096361\n",
       "2021-08-01  1338.204441  4452.867145\n",
       "2021-09-01  1514.063033  4628.732400"
      ]
     },
     "execution_count": 141,
     "metadata": {},
     "output_type": "execute_result"
    }
   ],
   "source": [
    "# Confidence Interval\n",
    "horizonte_60_predict_2_conf_2 = horizonte_60_predict_2.conf_int()\n",
    "horizonte_60_predict_2_conf_2"
   ]
  },
  {
   "cell_type": "code",
   "execution_count": 142,
   "metadata": {},
   "outputs": [
    {
     "data": {
      "image/png": "[encoded data removed]",
      "text/plain": [
       "<Figure size 1440x576 with 1 Axes>"
      ]
     },
     "metadata": {
      "needs_background": "light"
     },
     "output_type": "display_data"
    }
   ],
   "source": [
    "rcParams['figure.figsize'] = 20,8\n",
    "\n",
    "\n",
    "# Plot of observed values \n",
    "ax = media_vendas_tecnologia.plot(label = 'Valores Observados')\n",
    "\n",
    "# Plot of predicted values\n",
    "horizonte_60_predict_2.predicted_mean.plot(ax = ax, label = 'SARIMA Forecast')\n",
    "\n",
    "# Plot of Confidence interval\n",
    "ax.fill_between(horizonte_60_predict_2_conf_2.index,\n",
    "                horizonte_60_predict_2_conf_2.iloc[:, 0],\n",
    "                horizonte_60_predict_2_conf_2.iloc[:, 1], color = 'k', alpha = .25)\n",
    "\n",
    "# Plot\n",
    "ax.set_xlabel('Data')\n",
    "ax.set_ylabel('Vendas de Produtos de Tecnologia')\n",
    "plt.legend()\n",
    "plt.show()"
   ]
  },
  {
   "cell_type": "markdown",
   "metadata": {},
   "source": [
    "E aí está o problema!\n",
    "\n",
    "Nosso modelo tem um desempenho ruim ao longo do tempo. Isso se explica porque a previsão de vendas é uma média mensal e o feriado não pode ser considerado pelo modelo. Esses picos para baixo são os feriados do dia 01 de janeiro de cada ano, quando a venda é menor. Mas com essa variável exógena o modelo acaba se perdendo na previsão do padrão da série, que é que interessa.\n",
    "\n",
    "Veja como também aprendemos quando as coisas não saem como esperado. Por isso a experimentação é tão importante em Ciência de Dados."
   ]
  },
  {
   "cell_type": "code",
   "execution_count": 143,
   "metadata": {},
   "outputs": [
    {
     "name": "stdout",
     "output_type": "stream",
     "text": [
      "Valor-p = [0.49095878]\n"
     ]
    }
   ],
   "source": [
    "# Test of the Ljung-Box\n",
    "resultado_teste = sms.diagnostic.acorr_ljungbox(modelo_sarima_v2_fit.resid, lags = [30], boxpierce = False)\n",
    "print('Valor-p =', resultado_teste[1])"
   ]
  },
  {
   "cell_type": "markdown",
   "metadata": {},
   "source": [
    "Observe que o valor-p é maior que 0,05, o que indica que os resíduos são independentes no nível de 95%.\n",
    "\n",
    "No geral, o modelo até tenta fazer as previsões, pois o modelo SARIMA é poderoso, mas a variável exógena aqui está atrapalhando mais do que ajudando.\n",
    "\n",
    "Como estamos até agora:\n",
    "    \n",
    "- Aula 15 --> Modelo ARMA (1,1) - AIC = 550.3 e RMSE = 420.2\n",
    "- Aula 16 --> Modelo ARIMA (6,0,2) - AIC = 559.4 e RMSE = 401.5\n",
    "- Aula 17 --> Modelo SARIMA(0, 0, 0)x(0, 1, 1, 12)  - AIC = 176.74 e RMSE = 425.89\n",
    "- Aula 18 --> Modelo SARIMA(1, 1, 0)x(1, 1, 0, 12)  - AIC = 146.77 e RMSE = 353.57\n",
    "- Aula 19 --> Modelo SARIMA(1, 1, 0)x(1, 1, 0, 12) com exog  - AIC = 149.66 e RMSE = 341.23\n",
    "\n",
    "Aqui chegamos a um dilema comum em séries temporais. Se você estivesse analisando apenas as métricas, escolheria entre os modelos das aulas 18 ou 19? Menor AIC ou menor RMSE? Conforme já conversamos, o RMSE indica a performance do modelo com os dados do dataset e o AIC indica a performance do modelo no forecast, que é o que interessa.\n",
    "\n",
    "Dos 4 modelos acima, o modelo da Aula 18 é o que deveria ser escolhido como modelo final considerando a família ARIMA.\n",
    "\n",
    "Agora vamos trocar de modelo. Até a Aula 20."
   ]
  }
 ],
 "metadata": {
  "kernelspec": {
   "display_name": "Python 3",
   "language": "python",
   "name": "python3"
  },
  "language_info": {
   "codemirror_mode": {
    "name": "ipython",
    "version": 3
   },
   "file_extension": ".py",
   "mimetype": "text/x-python",
   "name": "python",
   "nbconvert_exporter": "python",
   "pygments_lexer": "ipython3",
   "version": "3.7.6"
  }
 },
 "nbformat": 4,
 "nbformat_minor": 4
}
