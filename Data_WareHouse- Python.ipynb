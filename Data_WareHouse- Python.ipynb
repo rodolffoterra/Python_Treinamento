{
 "cells": [
  {
   "cell_type": "markdown",
   "metadata": {},
   "source": [
    "<h2><b>Nome: </b>Rodolfo Rissetto Terra</h2>\n",
    "<p><b>Cientista de Dados Jr.</b></p>\n",
    "<p><b>Data:</b> 21 - 03 - 2020</p>\n",
    "<p><b>Tema:</b> Data WareHouse - Python</p>\n",
    "<p><b>Packege:</b> Pandas / nunpy</p>\n",
    "<p> Dados otidos do Portal Brasileiro de Dados Abertos: <a>http://dados.gob.br/dataset/cidades-digitais</a></p>\n",
    "<p> O projeto Cidades Digitais foi planejado para modernizar a gestão e ampliar ao serviço público, bem como promover o desenvolvimento dos municípios brasileiros através da tecnologia. </p>\n",
    "<h2> Group By e Reshape </h2>\n"
   ]
  },
  {
   "cell_type": "code",
   "execution_count": 1,
   "metadata": {},
   "outputs": [],
   "source": [
    "#Importando \n",
    "import numpy as np\n",
    "import pandas as pd"
   ]
  },
  {
   "cell_type": "code",
   "execution_count": 5,
   "metadata": {},
   "outputs": [],
   "source": [
    "# Carregando o conjunto de dados\n",
    "# Este arquivo.csv está como peradador então utilizaremos o [sep = \";\"].\n",
    "# O \"encoding\" é também muito improtante, porém não obrigatório para carregar o dataset, porém é a forma que identificamos como os caracteres foram colocados dentro do arquivo.\n",
    "\n",
    "cidadesDigitais = pd.read_csv('cidades_digitais.csv', sep = ';', encoding = 'latin-1')"
   ]
  },
  {
   "cell_type": "code",
   "execution_count": 6,
   "metadata": {},
   "outputs": [
    {
     "data": {
      "text/html": [
       "<div>\n",
       "<style scoped>\n",
       "    .dataframe tbody tr th:only-of-type {\n",
       "        vertical-align: middle;\n",
       "    }\n",
       "\n",
       "    .dataframe tbody tr th {\n",
       "        vertical-align: top;\n",
       "    }\n",
       "\n",
       "    .dataframe thead th {\n",
       "        text-align: right;\n",
       "    }\n",
       "</style>\n",
       "<table border=\"1\" class=\"dataframe\">\n",
       "  <thead>\n",
       "    <tr style=\"text-align: right;\">\n",
       "      <th></th>\n",
       "      <th>UF</th>\n",
       "      <th>CIDADE</th>\n",
       "      <th>IBGE</th>\n",
       "      <th>POPULAÇÃO</th>\n",
       "      <th>VALOR_TOTAL_PREVISTO</th>\n",
       "      <th>STATUS</th>\n",
       "      <th>PONTOS_ATENDIDOS</th>\n",
       "      <th>VALOR_INVESTIDO</th>\n",
       "    </tr>\n",
       "  </thead>\n",
       "  <tbody>\n",
       "    <tr>\n",
       "      <th>0</th>\n",
       "      <td>AC</td>\n",
       "      <td>Tarauacá</td>\n",
       "      <td>1200609</td>\n",
       "      <td>38819</td>\n",
       "      <td>484.547,53</td>\n",
       "      <td>Sem Previsão</td>\n",
       "      <td>8</td>\n",
       "      <td>0</td>\n",
       "    </tr>\n",
       "    <tr>\n",
       "      <th>1</th>\n",
       "      <td>AL</td>\n",
       "      <td>Delmiro Gouveia</td>\n",
       "      <td>2702405</td>\n",
       "      <td>51997</td>\n",
       "      <td>1.169.381,70</td>\n",
       "      <td>Sem Previsão</td>\n",
       "      <td>43</td>\n",
       "      <td>0</td>\n",
       "    </tr>\n",
       "    <tr>\n",
       "      <th>2</th>\n",
       "      <td>AL</td>\n",
       "      <td>Estrela de Alagoas</td>\n",
       "      <td>2702553</td>\n",
       "      <td>18306</td>\n",
       "      <td>527.206,83</td>\n",
       "      <td>Sem Previsão</td>\n",
       "      <td>39</td>\n",
       "      <td>0</td>\n",
       "    </tr>\n",
       "    <tr>\n",
       "      <th>3</th>\n",
       "      <td>AM</td>\n",
       "      <td>Autazes</td>\n",
       "      <td>1300300</td>\n",
       "      <td>37033</td>\n",
       "      <td>1.171.151,92</td>\n",
       "      <td>Sem Previsão</td>\n",
       "      <td>51</td>\n",
       "      <td>0</td>\n",
       "    </tr>\n",
       "    <tr>\n",
       "      <th>4</th>\n",
       "      <td>AM</td>\n",
       "      <td>Benjamin Constant</td>\n",
       "      <td>1300607</td>\n",
       "      <td>39484</td>\n",
       "      <td>844.586,48</td>\n",
       "      <td>Sem Previsão</td>\n",
       "      <td>12</td>\n",
       "      <td>0</td>\n",
       "    </tr>\n",
       "  </tbody>\n",
       "</table>\n",
       "</div>"
      ],
      "text/plain": [
       "   UF              CIDADE     IBGE  POPULAÇÃO VALOR_TOTAL_PREVISTO  \\\n",
       "0  AC            Tarauacá  1200609      38819           484.547,53   \n",
       "1  AL     Delmiro Gouveia  2702405      51997         1.169.381,70   \n",
       "2  AL  Estrela de Alagoas  2702553      18306           527.206,83   \n",
       "3  AM             Autazes  1300300      37033         1.171.151,92   \n",
       "4  AM   Benjamin Constant  1300607      39484           844.586,48   \n",
       "\n",
       "         STATUS  PONTOS_ATENDIDOS VALOR_INVESTIDO  \n",
       "0  Sem Previsão                 8               0  \n",
       "1  Sem Previsão                43               0  \n",
       "2  Sem Previsão                39               0  \n",
       "3  Sem Previsão                51               0  \n",
       "4  Sem Previsão                12               0  "
      ]
     },
     "execution_count": 6,
     "metadata": {},
     "output_type": "execute_result"
    }
   ],
   "source": [
    "#Visualizando as cinco primeira linhas do nosso dataset\n",
    "cidadesDigitais.head()"
   ]
  },
  {
   "cell_type": "code",
   "execution_count": 7,
   "metadata": {},
   "outputs": [
    {
     "data": {
      "text/plain": [
       "UF                      338\n",
       "CIDADE                  338\n",
       "IBGE                    338\n",
       "POPULAÇÃO               338\n",
       "VALOR_TOTAL_PREVISTO    338\n",
       "STATUS                  338\n",
       "PONTOS_ATENDIDOS        338\n",
       "VALOR_INVESTIDO         338\n",
       "dtype: int64"
      ]
     },
     "execution_count": 7,
     "metadata": {},
     "output_type": "execute_result"
    }
   ],
   "source": [
    "# a função count serve para contabilizar todos os registros que temos em nosso conjunto de dados\n",
    "\n",
    "cidadesDigitais.count()"
   ]
  },
  {
   "cell_type": "code",
   "execution_count": 33,
   "metadata": {},
   "outputs": [],
   "source": [
    "# A função 'del' com o nome ca coluna entre [] serve para deletarmos uma coluna que não será utilizada.\n",
    "\n",
    "del cidadesDigitais['IBGE']"
   ]
  },
  {
   "cell_type": "code",
   "execution_count": 10,
   "metadata": {},
   "outputs": [
    {
     "data": {
      "text/plain": [
       "pandas.core.groupby.generic.DataFrameGroupBy"
      ]
     },
     "execution_count": 10,
     "metadata": {},
     "output_type": "execute_result"
    }
   ],
   "source": [
    "# Aplicando Group BY\n",
    "\n",
    "cidadeUF_1 = cidadesDigitais.groupby('UF')\n",
    "type(cidadeUF_1)"
   ]
  },
  {
   "cell_type": "code",
   "execution_count": 12,
   "metadata": {},
   "outputs": [
    {
     "data": {
      "text/plain": [
       "{'AC': Int64Index([0], dtype='int64'),\n",
       " 'AL': Int64Index([1, 2], dtype='int64'),\n",
       " 'AM': Int64Index([3, 4, 5, 6, 7, 8, 9, 10, 11], dtype='int64'),\n",
       " 'AP': Int64Index([12, 13, 14, 15, 16, 17], dtype='int64'),\n",
       " 'BA': Int64Index([18, 19, 20, 21, 22, 23, 24, 25, 26, 27, 28, 29, 30, 31, 32, 33, 34,\n",
       "             35, 36, 37, 38, 39, 40, 41, 42, 43, 44, 45, 46, 47, 48, 49, 50],\n",
       "            dtype='int64'),\n",
       " 'CE': Int64Index([51, 52, 53, 54, 55, 56, 57, 58, 59, 60, 61, 62, 63, 64, 65, 66, 67,\n",
       "             68, 69, 70, 71, 72, 73, 74, 75, 76],\n",
       "            dtype='int64'),\n",
       " 'DF': Int64Index([77], dtype='int64'),\n",
       " 'ES': Int64Index([78, 79, 80, 81], dtype='int64'),\n",
       " 'GO': Int64Index([82, 83, 84, 85, 86, 87, 88, 89, 90, 91], dtype='int64'),\n",
       " 'MA': Int64Index([ 92,  93,  94,  95,  96,  97,  98,  99, 100, 101, 102, 103, 104,\n",
       "             105, 106, 107, 108, 109, 110, 111, 112, 113, 114, 115, 116, 117],\n",
       "            dtype='int64'),\n",
       " 'MG': Int64Index([118, 119, 120, 121, 122, 123, 124, 125, 126, 127, 128, 129, 130,\n",
       "             131, 132, 133, 134, 135, 136, 137, 138, 139, 140, 141, 142, 143,\n",
       "             144, 145],\n",
       "            dtype='int64'),\n",
       " 'MS': Int64Index([146, 147, 148], dtype='int64'),\n",
       " 'MT': Int64Index([149, 150, 151, 152], dtype='int64'),\n",
       " 'PA': Int64Index([153, 154, 155, 156, 157, 158, 159, 160, 161, 162, 163, 164, 165,\n",
       "             166, 167, 168, 169, 170, 171, 172, 173, 174, 175, 176],\n",
       "            dtype='int64'),\n",
       " 'PB': Int64Index([177, 178, 179, 180, 181, 182, 183, 184, 185, 186, 187, 188, 189,\n",
       "             190, 191, 192, 193, 194],\n",
       "            dtype='int64'),\n",
       " 'PE': Int64Index([195, 196, 197, 198, 199, 200, 201, 202, 203, 204, 205, 206, 207,\n",
       "             208, 209, 210],\n",
       "            dtype='int64'),\n",
       " 'PI': Int64Index([211, 212, 213, 214, 215, 216, 217, 218, 219, 220, 221, 222, 223,\n",
       "             224, 225, 226, 227, 228],\n",
       "            dtype='int64'),\n",
       " 'PR': Int64Index([229, 230, 231, 232, 233, 234, 235, 236, 237, 238, 239, 240, 241,\n",
       "             242, 243, 244, 245],\n",
       "            dtype='int64'),\n",
       " 'RJ': Int64Index([246, 247, 248, 249, 250, 251, 252, 253, 254, 255, 256, 257, 258,\n",
       "             259, 260],\n",
       "            dtype='int64'),\n",
       " 'RN': Int64Index([261, 262, 263, 264, 265, 266, 267, 268, 269], dtype='int64'),\n",
       " 'RO': Int64Index([270, 271], dtype='int64'),\n",
       " 'RR': Int64Index([272], dtype='int64'),\n",
       " 'RS': Int64Index([273, 274, 275, 276, 277, 278, 279, 280, 281, 282, 283, 284, 285,\n",
       "             286, 287, 288],\n",
       "            dtype='int64'),\n",
       " 'SC': Int64Index([289, 290, 291, 292, 293, 294], dtype='int64'),\n",
       " 'SE': Int64Index([295, 296, 297, 298], dtype='int64'),\n",
       " 'SP': Int64Index([299, 300, 301, 302, 303, 304, 305, 306, 307, 308, 309, 310, 311,\n",
       "             312, 313, 314, 315, 316, 317, 318, 319, 320, 321, 322, 323, 324,\n",
       "             325, 326, 327, 328, 329, 330, 331, 332, 333],\n",
       "            dtype='int64'),\n",
       " 'TO': Int64Index([334, 335, 336, 337], dtype='int64')}"
      ]
     },
     "execution_count": 12,
     "metadata": {},
     "output_type": "execute_result"
    }
   ],
   "source": [
    "# chamar o atributo grupo deste objeto\n",
    "\n",
    "cidadeUF_1.groups"
   ]
  },
  {
   "cell_type": "code",
   "execution_count": 13,
   "metadata": {},
   "outputs": [
    {
     "data": {
      "text/plain": [
       "27"
      ]
     },
     "execution_count": 13,
     "metadata": {},
     "output_type": "execute_result"
    }
   ],
   "source": [
    "#Visualizar o número de grupos\n",
    "\n",
    "len(cidadeUF_1.groups)"
   ]
  },
  {
   "cell_type": "code",
   "execution_count": 17,
   "metadata": {},
   "outputs": [],
   "source": [
    "# Visualizar o tamanho deste objeto\n",
    "\n",
    "ordenaUF = cidadeUF_1.size()"
   ]
  },
  {
   "cell_type": "code",
   "execution_count": 25,
   "metadata": {},
   "outputs": [
    {
     "data": {
      "text/plain": [
       "UF\n",
       "SP    35\n",
       "BA    33\n",
       "MG    28\n",
       "MA    26\n",
       "CE    26\n",
       "dtype: int64"
      ]
     },
     "execution_count": 25,
     "metadata": {},
     "output_type": "execute_result"
    }
   ],
   "source": [
    "# Ordena os grupos por ordem decrescente\n",
    "#head () para visualizar apenas as 05 primeiras linhas\n",
    "\n",
    "ordenaUF.sort_values(ascending = False).head()"
   ]
  },
  {
   "cell_type": "code",
   "execution_count": 24,
   "metadata": {},
   "outputs": [
    {
     "data": {
      "text/plain": [
       "UF\n",
       "AC    1\n",
       "RR    1\n",
       "DF    1\n",
       "AL    2\n",
       "RO    2\n",
       "MS    3\n",
       "SE    4\n",
       "MT    4\n",
       "TO    4\n",
       "ES    4\n",
       "dtype: int64"
      ]
     },
     "execution_count": 24,
     "metadata": {},
     "output_type": "execute_result"
    }
   ],
   "source": [
    "# Ordena os grupos por ordem crescente\n",
    "#head(10) para visualizar a quantidade de linhas identificada, no caso aqui 10 primeiras linhas\n",
    "\n",
    "ordenaUF.sort_values().head(10)"
   ]
  },
  {
   "cell_type": "code",
   "execution_count": 29,
   "metadata": {},
   "outputs": [],
   "source": [
    "# fazer um agrupamento agora com duas variáveis\n",
    "\n",
    "cidadesUF_2 = cidadesDigitais.groupby(['UF','STATUS'])"
   ]
  },
  {
   "cell_type": "code",
   "execution_count": 31,
   "metadata": {},
   "outputs": [
    {
     "data": {
      "text/plain": [
       "UF  STATUS      \n",
       "AC  Sem Previsão     1\n",
       "AL  Sem Previsão     2\n",
       "AM  Concluída        3\n",
       "    Sem Previsão     6\n",
       "AP  Concluída        1\n",
       "    Sem Previsão     5\n",
       "BA  Concluída        9\n",
       "    Sem Previsão    24\n",
       "CE  Concluída       11\n",
       "    Sem Previsão    15\n",
       "DF  Concluída        1\n",
       "ES  Sem Previsão     4\n",
       "GO  Sem Previsão    10\n",
       "MA  Concluída        1\n",
       "    Sem Previsão    25\n",
       "dtype: int64"
      ]
     },
     "execution_count": 31,
     "metadata": {},
     "output_type": "execute_result"
    }
   ],
   "source": [
    "# Pivot\n",
    "# analisar os dados por difertentes tipod e angulo\n",
    "# primeiro iremos colotar o tamanho e colocar em uma variável\n",
    "# Utilizar esta variável criado para organizar em ordem decrescente\n",
    "\n",
    "total = cidadesUF_2.size()\n",
    "total.sort_values(ascending = False)\n",
    "total\n"
   ]
  },
  {
   "cell_type": "code",
   "execution_count": 34,
   "metadata": {},
   "outputs": [
    {
     "data": {
      "text/html": [
       "<div>\n",
       "<style scoped>\n",
       "    .dataframe tbody tr th:only-of-type {\n",
       "        vertical-align: middle;\n",
       "    }\n",
       "\n",
       "    .dataframe tbody tr th {\n",
       "        vertical-align: top;\n",
       "    }\n",
       "\n",
       "    .dataframe thead th {\n",
       "        text-align: right;\n",
       "    }\n",
       "</style>\n",
       "<table border=\"1\" class=\"dataframe\">\n",
       "  <thead>\n",
       "    <tr style=\"text-align: right;\">\n",
       "      <th></th>\n",
       "      <th>UF</th>\n",
       "      <th>CIDADE</th>\n",
       "      <th>POPULAÇÃO</th>\n",
       "      <th>VALOR_TOTAL_PREVISTO</th>\n",
       "      <th>STATUS</th>\n",
       "      <th>PONTOS_ATENDIDOS</th>\n",
       "      <th>VALOR_INVESTIDO</th>\n",
       "    </tr>\n",
       "  </thead>\n",
       "  <tbody>\n",
       "    <tr>\n",
       "      <th>0</th>\n",
       "      <td>AC</td>\n",
       "      <td>Tarauacá</td>\n",
       "      <td>38819</td>\n",
       "      <td>484.547,53</td>\n",
       "      <td>Sem Previsão</td>\n",
       "      <td>8</td>\n",
       "      <td>0</td>\n",
       "    </tr>\n",
       "    <tr>\n",
       "      <th>1</th>\n",
       "      <td>AL</td>\n",
       "      <td>Delmiro Gouveia</td>\n",
       "      <td>51997</td>\n",
       "      <td>1.169.381,70</td>\n",
       "      <td>Sem Previsão</td>\n",
       "      <td>43</td>\n",
       "      <td>0</td>\n",
       "    </tr>\n",
       "    <tr>\n",
       "      <th>2</th>\n",
       "      <td>AL</td>\n",
       "      <td>Estrela de Alagoas</td>\n",
       "      <td>18306</td>\n",
       "      <td>527.206,83</td>\n",
       "      <td>Sem Previsão</td>\n",
       "      <td>39</td>\n",
       "      <td>0</td>\n",
       "    </tr>\n",
       "    <tr>\n",
       "      <th>3</th>\n",
       "      <td>AM</td>\n",
       "      <td>Autazes</td>\n",
       "      <td>37033</td>\n",
       "      <td>1.171.151,92</td>\n",
       "      <td>Sem Previsão</td>\n",
       "      <td>51</td>\n",
       "      <td>0</td>\n",
       "    </tr>\n",
       "    <tr>\n",
       "      <th>4</th>\n",
       "      <td>AM</td>\n",
       "      <td>Benjamin Constant</td>\n",
       "      <td>39484</td>\n",
       "      <td>844.586,48</td>\n",
       "      <td>Sem Previsão</td>\n",
       "      <td>12</td>\n",
       "      <td>0</td>\n",
       "    </tr>\n",
       "  </tbody>\n",
       "</table>\n",
       "</div>"
      ],
      "text/plain": [
       "   UF              CIDADE  POPULAÇÃO VALOR_TOTAL_PREVISTO        STATUS  \\\n",
       "0  AC            Tarauacá      38819           484.547,53  Sem Previsão   \n",
       "1  AL     Delmiro Gouveia      51997         1.169.381,70  Sem Previsão   \n",
       "2  AL  Estrela de Alagoas      18306           527.206,83  Sem Previsão   \n",
       "3  AM             Autazes      37033         1.171.151,92  Sem Previsão   \n",
       "4  AM   Benjamin Constant      39484           844.586,48  Sem Previsão   \n",
       "\n",
       "   PONTOS_ATENDIDOS VALOR_INVESTIDO  \n",
       "0                 8               0  \n",
       "1                43               0  \n",
       "2                39               0  \n",
       "3                51               0  \n",
       "4                12               0  "
      ]
     },
     "execution_count": 34,
     "metadata": {},
     "output_type": "execute_result"
    }
   ],
   "source": [
    "# Comparando com o Dataset original\n",
    "\n",
    "cidadesDigitais.head()"
   ]
  },
  {
   "cell_type": "code",
   "execution_count": 42,
   "metadata": {},
   "outputs": [],
   "source": [
    "# Dentro do nosso datset iremos escloher uma coluna para ser o nosso índice\n",
    "\n",
    "cidadeUF_3 = cidadesDigitais.set_index('STATUS')"
   ]
  },
  {
   "cell_type": "code",
   "execution_count": 43,
   "metadata": {},
   "outputs": [],
   "source": [
    "#Aplicar Group By\n",
    "\n",
    "cidadeUF_3 = cidadeUF_3.groupby(level = 'STATUS')"
   ]
  },
  {
   "cell_type": "code",
   "execution_count": 44,
   "metadata": {},
   "outputs": [
    {
     "data": {
      "text/html": [
       "<div>\n",
       "<style scoped>\n",
       "    .dataframe tbody tr th:only-of-type {\n",
       "        vertical-align: middle;\n",
       "    }\n",
       "\n",
       "    .dataframe tbody tr th {\n",
       "        vertical-align: top;\n",
       "    }\n",
       "\n",
       "    .dataframe thead th {\n",
       "        text-align: right;\n",
       "    }\n",
       "</style>\n",
       "<table border=\"1\" class=\"dataframe\">\n",
       "  <thead>\n",
       "    <tr style=\"text-align: right;\">\n",
       "      <th></th>\n",
       "      <th>UF</th>\n",
       "      <th>CIDADE</th>\n",
       "      <th>POPULAÇÃO</th>\n",
       "      <th>VALOR_TOTAL_PREVISTO</th>\n",
       "      <th>PONTOS_ATENDIDOS</th>\n",
       "      <th>VALOR_INVESTIDO</th>\n",
       "    </tr>\n",
       "    <tr>\n",
       "      <th>STATUS</th>\n",
       "      <th></th>\n",
       "      <th></th>\n",
       "      <th></th>\n",
       "      <th></th>\n",
       "      <th></th>\n",
       "      <th></th>\n",
       "    </tr>\n",
       "  </thead>\n",
       "  <tbody>\n",
       "    <tr>\n",
       "      <th>Sem Previsão</th>\n",
       "      <td>AC</td>\n",
       "      <td>Tarauacá</td>\n",
       "      <td>38819</td>\n",
       "      <td>484.547,53</td>\n",
       "      <td>8</td>\n",
       "      <td>0</td>\n",
       "    </tr>\n",
       "    <tr>\n",
       "      <th>Sem Previsão</th>\n",
       "      <td>AL</td>\n",
       "      <td>Delmiro Gouveia</td>\n",
       "      <td>51997</td>\n",
       "      <td>1.169.381,70</td>\n",
       "      <td>43</td>\n",
       "      <td>0</td>\n",
       "    </tr>\n",
       "    <tr>\n",
       "      <th>Sem Previsão</th>\n",
       "      <td>AL</td>\n",
       "      <td>Estrela de Alagoas</td>\n",
       "      <td>18306</td>\n",
       "      <td>527.206,83</td>\n",
       "      <td>39</td>\n",
       "      <td>0</td>\n",
       "    </tr>\n",
       "    <tr>\n",
       "      <th>Sem Previsão</th>\n",
       "      <td>AM</td>\n",
       "      <td>Autazes</td>\n",
       "      <td>37033</td>\n",
       "      <td>1.171.151,92</td>\n",
       "      <td>51</td>\n",
       "      <td>0</td>\n",
       "    </tr>\n",
       "    <tr>\n",
       "      <th>Sem Previsão</th>\n",
       "      <td>AM</td>\n",
       "      <td>Benjamin Constant</td>\n",
       "      <td>39484</td>\n",
       "      <td>844.586,48</td>\n",
       "      <td>12</td>\n",
       "      <td>0</td>\n",
       "    </tr>\n",
       "    <tr>\n",
       "      <th>Concluída</th>\n",
       "      <td>AM</td>\n",
       "      <td>Coari</td>\n",
       "      <td>83078</td>\n",
       "      <td>814.954,75</td>\n",
       "      <td>27</td>\n",
       "      <td>0</td>\n",
       "    </tr>\n",
       "    <tr>\n",
       "      <th>Concluída</th>\n",
       "      <td>AM</td>\n",
       "      <td>Manacapuru</td>\n",
       "      <td>94175</td>\n",
       "      <td>892.096,87</td>\n",
       "      <td>31</td>\n",
       "      <td>763.009,30</td>\n",
       "    </tr>\n",
       "    <tr>\n",
       "      <th>Concluída</th>\n",
       "      <td>AM</td>\n",
       "      <td>Manaquiri</td>\n",
       "      <td>28413</td>\n",
       "      <td>636.682,15</td>\n",
       "      <td>21</td>\n",
       "      <td>0</td>\n",
       "    </tr>\n",
       "    <tr>\n",
       "      <th>Concluída</th>\n",
       "      <td>AP</td>\n",
       "      <td>Serra do Navio</td>\n",
       "      <td>4938</td>\n",
       "      <td>590.073,15</td>\n",
       "      <td>21</td>\n",
       "      <td>495.899,00</td>\n",
       "    </tr>\n",
       "    <tr>\n",
       "      <th>Concluída</th>\n",
       "      <td>BA</td>\n",
       "      <td>Guanambi</td>\n",
       "      <td>85797</td>\n",
       "      <td>533.416,18</td>\n",
       "      <td>15</td>\n",
       "      <td>441.985,58</td>\n",
       "    </tr>\n",
       "    <tr>\n",
       "      <th>Em andamento</th>\n",
       "      <td>MG</td>\n",
       "      <td>Nepomuceno</td>\n",
       "      <td>26897</td>\n",
       "      <td>650.576,00</td>\n",
       "      <td>27</td>\n",
       "      <td>0</td>\n",
       "    </tr>\n",
       "    <tr>\n",
       "      <th>Em andamento</th>\n",
       "      <td>PB</td>\n",
       "      <td>Cabaceiras</td>\n",
       "      <td>5449</td>\n",
       "      <td>355.867,86</td>\n",
       "      <td>15</td>\n",
       "      <td>0</td>\n",
       "    </tr>\n",
       "    <tr>\n",
       "      <th>Em andamento</th>\n",
       "      <td>PB</td>\n",
       "      <td>Esperança</td>\n",
       "      <td>32785</td>\n",
       "      <td>643.482,51</td>\n",
       "      <td>23</td>\n",
       "      <td>0</td>\n",
       "    </tr>\n",
       "    <tr>\n",
       "      <th>Em andamento</th>\n",
       "      <td>PB</td>\n",
       "      <td>Itaporanga</td>\n",
       "      <td>24499</td>\n",
       "      <td>649.011,44</td>\n",
       "      <td>23</td>\n",
       "      <td>0</td>\n",
       "    </tr>\n",
       "    <tr>\n",
       "      <th>Em andamento</th>\n",
       "      <td>PR</td>\n",
       "      <td>Bandeirantes</td>\n",
       "      <td>32639</td>\n",
       "      <td>279.409,70</td>\n",
       "      <td>7</td>\n",
       "      <td>0</td>\n",
       "    </tr>\n",
       "  </tbody>\n",
       "</table>\n",
       "</div>"
      ],
      "text/plain": [
       "              UF              CIDADE  POPULAÇÃO VALOR_TOTAL_PREVISTO  \\\n",
       "STATUS                                                                 \n",
       "Sem Previsão  AC            Tarauacá      38819           484.547,53   \n",
       "Sem Previsão  AL     Delmiro Gouveia      51997         1.169.381,70   \n",
       "Sem Previsão  AL  Estrela de Alagoas      18306           527.206,83   \n",
       "Sem Previsão  AM             Autazes      37033         1.171.151,92   \n",
       "Sem Previsão  AM   Benjamin Constant      39484           844.586,48   \n",
       "Concluída     AM               Coari      83078           814.954,75   \n",
       "Concluída     AM          Manacapuru      94175           892.096,87   \n",
       "Concluída     AM           Manaquiri      28413           636.682,15   \n",
       "Concluída     AP      Serra do Navio       4938           590.073,15   \n",
       "Concluída     BA            Guanambi      85797           533.416,18   \n",
       "Em andamento  MG          Nepomuceno      26897           650.576,00   \n",
       "Em andamento  PB          Cabaceiras       5449           355.867,86   \n",
       "Em andamento  PB           Esperança      32785           643.482,51   \n",
       "Em andamento  PB          Itaporanga      24499           649.011,44   \n",
       "Em andamento  PR        Bandeirantes      32639           279.409,70   \n",
       "\n",
       "              PONTOS_ATENDIDOS VALOR_INVESTIDO  \n",
       "STATUS                                          \n",
       "Sem Previsão                 8               0  \n",
       "Sem Previsão                43               0  \n",
       "Sem Previsão                39               0  \n",
       "Sem Previsão                51               0  \n",
       "Sem Previsão                12               0  \n",
       "Concluída                   27               0  \n",
       "Concluída                   31      763.009,30  \n",
       "Concluída                   21               0  \n",
       "Concluída                   21      495.899,00  \n",
       "Concluída                   15      441.985,58  \n",
       "Em andamento                27               0  \n",
       "Em andamento                15               0  \n",
       "Em andamento                23               0  \n",
       "Em andamento                23               0  \n",
       "Em andamento                 7               0  "
      ]
     },
     "execution_count": 44,
     "metadata": {},
     "output_type": "execute_result"
    }
   ],
   "source": [
    "cidadeUF_3.head()"
   ]
  }
 ],
 "metadata": {
  "kernelspec": {
   "display_name": "Python 3",
   "language": "python",
   "name": "python3"
  },
  "language_info": {
   "codemirror_mode": {
    "name": "ipython",
    "version": 3
   },
   "file_extension": ".py",
   "mimetype": "text/x-python",
   "name": "python",
   "nbconvert_exporter": "python",
   "pygments_lexer": "ipython3",
   "version": "3.7.1"
  }
 },
 "nbformat": 4,
 "nbformat_minor": 2
}
